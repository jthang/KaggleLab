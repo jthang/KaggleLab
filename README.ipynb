{
 "metadata": {
  "name": "",
  "signature": "sha256:45e76949c04b7c1b90b433beabbe952a622437372b85aeb3e624fbeb4e2c7e43"
 },
 "nbformat": 3,
 "nbformat_minor": 0,
 "worksheets": [
  {
   "cells": [
    {
     "cell_type": "markdown",
     "metadata": {},
     "source": [
      "#Kaggle Lab"
     ]
    },
    {
     "cell_type": "markdown",
     "metadata": {},
     "source": [
      "###Knowledge Competitions\n",
      "- Data Science London\n",
      "- Titanic\n",
      "- Forest Cover Type Prediction\n",
      "- Bike Sharing Demand\n",
      "- Sentiment Analysis on Movie Reviews\n",
      "\n",
      "###Prize Competitions\n",
      "- Avazu CTR Prediction\n",
      "- Walmart Recruiting\n",
      "- StumbleUpon Evergreen\n",
      "- Facebook Recruiting Competition\n",
      "- Online Product Sales\n",
      "- Yelp Recruiting Competition\n",
      "- Expedia Hotel Searches\n",
      "- Event Recommendation Engine\n",
      "- Yandex Personalized Web Search\n",
      "- Acquire Valued Shoppers (VW)\n",
      "- Criteo Advertising Challenge (VW)\n",
      "- Amazon Employee Access Challenge (VW)"
     ]
    }
   ],
   "metadata": {}
  }
 ]
}