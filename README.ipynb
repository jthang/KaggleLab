{
 "metadata": {
  "name": "",
  "signature": "sha256:1d6358dc25a1ef585dee7b82d4079bfbc93fd5dcb392e2fe04576f563596a091"
 },
 "nbformat": 3,
 "nbformat_minor": 0,
 "worksheets": [
  {
   "cells": [
    {
     "cell_type": "markdown",
     "metadata": {},
     "source": [
      "#Kaggle Lab"
     ]
    },
    {
     "cell_type": "markdown",
     "metadata": {},
     "source": [
      "###Knowledge Competitions\n",
      "- Data Science London\n",
      "- Titanic\n",
      "- Forest Cover Type Prediction\n",
      "- Bike Sharing Demand\n",
      "- Sentiment Analysis on Movie Reviews\n",
      "\n",
      "###Prize Competitions\n",
      "- Amazon Employee Access Challenge (VW)\n",
      "- StumbleUpon Evergreen\n",
      "- Partly Sunny with a Chance of Hashtags\n",
      "- Galaxy Zoo \u2013 The Galaxy Challenge\n",
      "- Facebook Recruiting III \u2013 Keyword Extraction\n",
      "- Yandex Personalized Web Search\n",
      "- Connectomics\n",
      "- Acquire Valued Shoppers (VW)\n",
      "- Criteo Advertising Challenge (VW)\n",
      "- DecMeg2014 - Decoding the Human Brain\n",
      "- Walmart Recruiting\n",
      "- MLSP Schizophrenia detection\n",
      "- KDD-cup 2014\n",
      "- Avazu CTR Prediction\n",
      "- Higgs Boson ML challenge \n",
      "- Facebook Recruiting Competition\n",
      "- Online Product Sales\n",
      "- Yelp Recruiting Competition\n",
      "- Expedia Hotel Searches\n",
      "- Event Recommendation Engine\n",
      "- Avito Detect Prohibited Content \n",
      "\n",
      "\n",
      "\n"
     ]
    }
   ],
   "metadata": {}
  }
 ]
}