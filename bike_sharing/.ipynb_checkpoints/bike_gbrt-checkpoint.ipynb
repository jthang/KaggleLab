{
 "metadata": {
  "name": "",
  "signature": "sha256:e5768c7d81c63c4d7636112b8df35f140b9bfadf15c0a80363af80ed5d709f29"
 },
 "nbformat": 3,
 "nbformat_minor": 0,
 "worksheets": [
  {
   "cells": [
    {
     "cell_type": "markdown",
     "metadata": {},
     "source": [
      "#<span style=\"background-color:#66FF99\">Bike Sharing Demand<span/>\n",
      "<img src=\"../images/bs.png\">"
     ]
    },
    {
     "cell_type": "markdown",
     "metadata": {},
     "source": [
      "#Gradient Boosted Regression Trees\n",
      "[back to top](#contents)"
     ]
    },
    {
     "cell_type": "markdown",
     "metadata": {},
     "source": [
      "###Preliminaries\n",
      "[back to top](#contents)"
     ]
    },
    {
     "cell_type": "code",
     "collapsed": false,
     "input": [
      "%matplotlib inline\n",
      "import pandas as pd\n",
      "import numpy as np\n",
      "import matplotlib.pyplot as plt\n",
      "from sklearn.ensemble import GradientBoostingClassifier, GradientBoostingRegressor\n",
      "from sklearn.metrics import mean_squared_error\n",
      "from sklearn.metrics import r2_score\n",
      "from sklearn.metrics import make_scorer\n",
      "from sklearn.grid_search import GridSearchCV\n",
      "\n",
      "import warnings\n",
      "warnings.simplefilter('ignore', DeprecationWarning)"
     ],
     "language": "python",
     "metadata": {},
     "outputs": [],
     "prompt_number": 15
    },
    {
     "cell_type": "markdown",
     "metadata": {},
     "source": [
      "###Main"
     ]
    },
    {
     "cell_type": "code",
     "collapsed": false,
     "input": [
      "filepath = '../bike_sharing/'\n",
      "\n",
      "def read_file(path):\n",
      "    data = pd.read_csv(path, parse_dates = ['datetime'], index_col= 'datetime')\n",
      "    return data\n",
      "\n",
      "def describe_data(bk, test):\n",
      "    print bk.head()\n",
      "    print test.head()\n",
      "\n",
      "def get_season(date):\n",
      "    # convert date to month and day as integer (md)\n",
      "    season = []\n",
      "    for d in date:\n",
      "        mon = d.month * 100\n",
      "        da = d.day\n",
      "        md = mon + da    \n",
      "        if ((md > 320) and (md < 621)):\n",
      "            season.append(0) #spring\n",
      "        elif ((md > 620) and (md < 923)):\n",
      "            season.append(1) #summer\n",
      "        elif ((md > 922) and (md < 1223)):\n",
      "            season.append(2) #fall\n",
      "        else:\n",
      "            season.append(3) #winter\n",
      "    return season\n",
      "\n",
      "def clean_data_bk(bk):\n",
      "    bk = bk.drop('casual', 1)\n",
      "    bk = bk.drop('registered', 1)\n",
      "    bk['month'] = bk.index.month\n",
      "    bk['weekday'] = bk.index.weekday\n",
      "    bk['day'] = bk.index.day\n",
      "    bk['hour'] = bk.index.hour\n",
      "    bk['season'] = get_season(bk.index)\n",
      "    return bk\n",
      "\n",
      "def clean_data_test(test):\n",
      "    test['month'] = test.index.month\n",
      "    test['weekday'] = test.index.weekday\n",
      "    test['day'] = test.index.day\n",
      "    test['hour'] = test.index.hour\n",
      "    test['season'] = get_season(test.index)\n",
      "    return test\n",
      "\n",
      "def split_dataset(df):\n",
      "    test_idx = np.random.uniform(0, 1, len(df)) <= 0.3\n",
      "    train = df[test_idx == True]\n",
      "    test = df[test_idx == False]\n",
      "    return(train, test)\n",
      "\n",
      "def normalize(bk):\n",
      "    bk = (bk - bk.mean()) / (bk.max() - bk.min())\n",
      "    return bk\n",
      "\n",
      "def rmsle(y_test, y_pred):\n",
      "    ans = np.log1p(y_pred) - np.log1p(y_test)\n",
      "    ans = np.power(ans, 2)\n",
      "    rmsle = np.sqrt(ans.mean())\n",
      "    return rmsle\n",
      "\n",
      "def crossval_GBRT(X_train, y_train, X_test, y_test):\n",
      "    param_grid = {'learning_rate': [0.01, 0.001],\n",
      "                  'max_depth' : [4, 5]\n",
      "                  }\n",
      "    scorer = make_scorer(rmsle, greater_is_better=False)        \n",
      "    est = GradientBoostingRegressor(n_estimators=3000)\n",
      "    gs_cv = GridSearchCV(est, param_grid,\n",
      "                         scoring=scorer,\n",
      "                         n_jobs=4, verbose=1).fit(X_train, y_train)\n",
      "    return gs_cv.best_params_, gs_cv.best_score_"
     ],
     "language": "python",
     "metadata": {},
     "outputs": [],
     "prompt_number": 39
    },
    {
     "cell_type": "markdown",
     "metadata": {},
     "source": [
      "###Load Data"
     ]
    },
    {
     "cell_type": "code",
     "collapsed": false,
     "input": [
      "bk = read_file(filepath + '/data/train.csv')\n",
      "test = read_file(filepath + '/data/test.csv')\n",
      "bk = clean_data_bk(bk)\n",
      "test = clean_data_test(test)\n",
      "describe_data(bk, test)"
     ],
     "language": "python",
     "metadata": {},
     "outputs": [
      {
       "output_type": "stream",
       "stream": "stdout",
       "text": [
        "                     season  holiday  workingday  weather  temp   atemp  \\\n",
        "datetime                                                                  \n",
        "2011-01-01 00:00:00       3        0           0        1  9.84  14.395   \n",
        "2011-01-01 01:00:00       3        0           0        1  9.02  13.635   \n",
        "2011-01-01 02:00:00       3        0           0        1  9.02  13.635   \n",
        "2011-01-01 03:00:00       3        0           0        1  9.84  14.395   \n",
        "2011-01-01 04:00:00       3        0           0        1  9.84  14.395   \n",
        "\n",
        "                     humidity  windspeed  count  month  weekday  day  hour  \n",
        "datetime                                                                    \n",
        "2011-01-01 00:00:00        81          0     16      1        5    1     0  \n",
        "2011-01-01 01:00:00        80          0     40      1        5    1     1  \n",
        "2011-01-01 02:00:00        80          0     32      1        5    1     2  \n",
        "2011-01-01 03:00:00        75          0     13      1        5    1     3  \n",
        "2011-01-01 04:00:00        75          0      1      1        5    1     4  \n",
        "                     season  holiday  workingday  weather   temp   atemp  \\\n",
        "datetime                                                                   \n",
        "2011-01-20 00:00:00       3        0           1        1  10.66  11.365   \n",
        "2011-01-20 01:00:00       3        0           1        1  10.66  13.635   \n",
        "2011-01-20 02:00:00       3        0           1        1  10.66  13.635   \n",
        "2011-01-20 03:00:00       3        0           1        1  10.66  12.880   \n",
        "2011-01-20 04:00:00       3        0           1        1  10.66  12.880   \n",
        "\n",
        "                     humidity  windspeed  month  weekday  day  hour  \n",
        "datetime                                                             \n",
        "2011-01-20 00:00:00        56    26.0027      1        3   20     0  \n",
        "2011-01-20 01:00:00        56     0.0000      1        3   20     1  \n",
        "2011-01-20 02:00:00        56     0.0000      1        3   20     2  \n",
        "2011-01-20 03:00:00        56    11.0014      1        3   20     3  \n",
        "2011-01-20 04:00:00        56    11.0014      1        3   20     4  \n"
       ]
      }
     ],
     "prompt_number": 33
    },
    {
     "cell_type": "markdown",
     "metadata": {},
     "source": [
      "###Normalize the data"
     ]
    },
    {
     "cell_type": "code",
     "collapsed": false,
     "input": [
      "bk_not_norm = bk.copy()\n",
      "bk_columns = bk.columns.tolist()\n",
      "bk_columns.remove('count')\n",
      "\n",
      "bk[bk_columns] = normalize(bk[bk_columns])\n",
      "test = normalize(test)"
     ],
     "language": "python",
     "metadata": {},
     "outputs": [],
     "prompt_number": 34
    },
    {
     "cell_type": "markdown",
     "metadata": {},
     "source": [
      "###Train-Test Split"
     ]
    },
    {
     "cell_type": "code",
     "collapsed": false,
     "input": [
      "bk_train = split_dataset(bk)[0]\n",
      "bk_test = split_dataset(bk)[1]\n",
      "\n",
      "X_train = bk_train[bk_columns]\n",
      "X_test = bk_test[bk_columns]\n",
      "y_train = bk_train['count']\n",
      "y_test = bk_test['count']"
     ],
     "language": "python",
     "metadata": {},
     "outputs": [],
     "prompt_number": 35
    },
    {
     "cell_type": "markdown",
     "metadata": {},
     "source": [
      "###Tune Hyperparameters (GridSearchCV)"
     ]
    },
    {
     "cell_type": "code",
     "collapsed": false,
     "input": [
      "%%time \n",
      "best_params, best_score = crossval_GBRT(X_train, y_train, X_test, y_test)\n",
      "print best_params, best_score"
     ],
     "language": "python",
     "metadata": {},
     "outputs": [
      {
       "output_type": "stream",
       "stream": "stdout",
       "text": [
        "Fitting 3 folds for each of 4 candidates, totalling 12 fits\n"
       ]
      },
      {
       "output_type": "stream",
       "stream": "stderr",
       "text": [
        "[Parallel(n_jobs=4)]: Done   1 jobs       | elapsed:   10.6s\n",
        "[Parallel(n_jobs=4)]: Done   6 out of  12 | elapsed:   28.0s remaining:   28.0s\n",
        "[Parallel(n_jobs=4)]: Done  12 out of  12 | elapsed:   48.0s finished\n"
       ]
      },
      {
       "output_type": "stream",
       "stream": "stdout",
       "text": [
        "{'learning_rate': 0.01, 'max_depth': 4} nan\n",
        "CPU times: user 9.53 s, sys: 74.2 ms, total: 9.61 s\n",
        "Wall time: 57.6 s\n"
       ]
      }
     ],
     "prompt_number": 40
    },
    {
     "cell_type": "markdown",
     "metadata": {},
     "source": [
      "###Train GBRT with best params"
     ]
    },
    {
     "cell_type": "code",
     "collapsed": false,
     "input": [
      "clf = GradientBoostingRegressor(n_estimators = 3000, \n",
      "                                max_depth = 4, \n",
      "                                learning_rate = 0.01, \n",
      "#                                 random_state = 0, \n",
      "#                                 loss = 'huber'\n",
      "                                )\n",
      "clf.fit(X_train, y_train)\n",
      "clf_pred_1 = clf.predict(X_test)\n",
      "clf_pred_1 = pd.DataFrame(clf_pred_1, index = bk_test.index, columns = ['count'])\n",
      "clf_pred_1.describe()"
     ],
     "language": "python",
     "metadata": {},
     "outputs": [
      {
       "html": [
        "<div style=\"max-height:1000px;max-width:1500px;overflow:auto;\">\n",
        "<table border=\"1\" class=\"dataframe\">\n",
        "  <thead>\n",
        "    <tr style=\"text-align: right;\">\n",
        "      <th></th>\n",
        "      <th>count</th>\n",
        "    </tr>\n",
        "  </thead>\n",
        "  <tbody>\n",
        "    <tr>\n",
        "      <th>count</th>\n",
        "      <td> 7617.000000</td>\n",
        "    </tr>\n",
        "    <tr>\n",
        "      <th>mean</th>\n",
        "      <td>  190.566976</td>\n",
        "    </tr>\n",
        "    <tr>\n",
        "      <th>std</th>\n",
        "      <td>  164.610434</td>\n",
        "    </tr>\n",
        "    <tr>\n",
        "      <th>min</th>\n",
        "      <td>  -88.537086</td>\n",
        "    </tr>\n",
        "    <tr>\n",
        "      <th>25%</th>\n",
        "      <td>   45.156045</td>\n",
        "    </tr>\n",
        "    <tr>\n",
        "      <th>50%</th>\n",
        "      <td>  160.626066</td>\n",
        "    </tr>\n",
        "    <tr>\n",
        "      <th>75%</th>\n",
        "      <td>  284.050778</td>\n",
        "    </tr>\n",
        "    <tr>\n",
        "      <th>max</th>\n",
        "      <td>  854.734064</td>\n",
        "    </tr>\n",
        "  </tbody>\n",
        "</table>\n",
        "</div>"
       ],
       "metadata": {},
       "output_type": "pyout",
       "prompt_number": 42,
       "text": [
        "             count\n",
        "count  7617.000000\n",
        "mean    190.566976\n",
        "std     164.610434\n",
        "min     -88.537086\n",
        "25%      45.156045\n",
        "50%     160.626066\n",
        "75%     284.050778\n",
        "max     854.734064"
       ]
      }
     ],
     "prompt_number": 42
    },
    {
     "cell_type": "code",
     "collapsed": false,
     "input": [
      "#remove negative results\n",
      "clf_pred_1[clf_pred_1 < 0] = 0\n",
      "clf_pred_1.describe()"
     ],
     "language": "python",
     "metadata": {},
     "outputs": [
      {
       "html": [
        "<div style=\"max-height:1000px;max-width:1500px;overflow:auto;\">\n",
        "<table border=\"1\" class=\"dataframe\">\n",
        "  <thead>\n",
        "    <tr style=\"text-align: right;\">\n",
        "      <th></th>\n",
        "      <th>count</th>\n",
        "    </tr>\n",
        "  </thead>\n",
        "  <tbody>\n",
        "    <tr>\n",
        "      <th>count</th>\n",
        "      <td> 7617.000000</td>\n",
        "    </tr>\n",
        "    <tr>\n",
        "      <th>mean</th>\n",
        "      <td>  190.947812</td>\n",
        "    </tr>\n",
        "    <tr>\n",
        "      <th>std</th>\n",
        "      <td>  164.138270</td>\n",
        "    </tr>\n",
        "    <tr>\n",
        "      <th>min</th>\n",
        "      <td>    0.000000</td>\n",
        "    </tr>\n",
        "    <tr>\n",
        "      <th>25%</th>\n",
        "      <td>   45.156045</td>\n",
        "    </tr>\n",
        "    <tr>\n",
        "      <th>50%</th>\n",
        "      <td>  160.626066</td>\n",
        "    </tr>\n",
        "    <tr>\n",
        "      <th>75%</th>\n",
        "      <td>  284.050778</td>\n",
        "    </tr>\n",
        "    <tr>\n",
        "      <th>max</th>\n",
        "      <td>  854.734064</td>\n",
        "    </tr>\n",
        "  </tbody>\n",
        "</table>\n",
        "</div>"
       ],
       "metadata": {},
       "output_type": "pyout",
       "prompt_number": 43,
       "text": [
        "             count\n",
        "count  7617.000000\n",
        "mean    190.947812\n",
        "std     164.138270\n",
        "min       0.000000\n",
        "25%      45.156045\n",
        "50%     160.626066\n",
        "75%     284.050778\n",
        "max     854.734064"
       ]
      }
     ],
     "prompt_number": 43
    },
    {
     "cell_type": "markdown",
     "metadata": {},
     "source": [
      "###Performance Metrics"
     ]
    },
    {
     "cell_type": "code",
     "collapsed": false,
     "input": [
      "print 'R^2 score:', r2_score(y_test, clf_pred_1)\n",
      "print 'Mean Squared Error:', mean_squared_error(y_test, clf_pred_1)\n",
      "print 'Root Mean Squared Log Error:', rmsle(y_test, clf_pred_1)"
     ],
     "language": "python",
     "metadata": {},
     "outputs": [
      {
       "output_type": "stream",
       "stream": "stdout",
       "text": [
        "R^2 score: 0.875914281711\n",
        "Mean Squared Error: 3984.92992418\n",
        "Root Mean Squared Log Error: count    0.638495\n",
        "dtype: float64\n"
       ]
      }
     ],
     "prompt_number": 45
    },
    {
     "cell_type": "markdown",
     "metadata": {},
     "source": [
      "###Predict Actual Test Set"
     ]
    },
    {
     "cell_type": "code",
     "collapsed": false,
     "input": [
      "clf_pred_test = clf.predict(test)\n",
      "clf_pred_test = pd.DataFrame(clf_pred_test, index = test.index, columns = ['count'])\n",
      "clf_pred_test[clf_pred_test < 0] = 0"
     ],
     "language": "python",
     "metadata": {},
     "outputs": [],
     "prompt_number": 46
    },
    {
     "cell_type": "markdown",
     "metadata": {},
     "source": [
      "###Generate CSV for submission"
     ]
    },
    {
     "cell_type": "code",
     "collapsed": false,
     "input": [
      "results_file = filepath + 'GBRT.csv'\n",
      "clf_pred_test.to_csv(results_file, index_label = ['datetime'])"
     ],
     "language": "python",
     "metadata": {},
     "outputs": [],
     "prompt_number": 47
    },
    {
     "cell_type": "code",
     "collapsed": false,
     "input": [
      "# from IPython.display import display, HTML\n",
      "# display(HTML(open('../style/custom.css').read()))"
     ],
     "language": "python",
     "metadata": {},
     "outputs": [],
     "prompt_number": 12
    }
   ],
   "metadata": {}
  }
 ]
}