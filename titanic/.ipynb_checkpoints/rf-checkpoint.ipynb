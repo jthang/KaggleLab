{
 "metadata": {
  "name": "",
  "signature": "sha256:b274f9ea22e9a6ed6e44fa673e2103a4bcbe4c29fdd66869fa7f9c6e30392975"
 },
 "nbformat": 3,
 "nbformat_minor": 0,
 "worksheets": [
  {
   "cells": [
    {
     "cell_type": "code",
     "collapsed": false,
     "input": [
      "%matplotlib inline\n",
      "import pandas as pd\n",
      "import numpy as np\n",
      "import matplotlib.pyplot as plt\n",
      "import seaborn as sns\n",
      "sns.set(style=\"white\")\n",
      "plt.rc(\"figure\", figsize=(10, 6))\n",
      "np.set_printoptions(precision=4)\n",
      "\n",
      "colors = [\"#348ABD\", \"#A60628\", \"#7A68A6\", \"#467821\", \"#D55E00\",\n",
      "          \"#CC79A7\", \"#56B4E9\", \"#009E73\", \"#F0E442\", \"#0072B2\"]\n",
      "\n",
      "import warnings\n",
      "warnings.simplefilter('ignore', DeprecationWarning)"
     ],
     "language": "python",
     "metadata": {},
     "outputs": [],
     "prompt_number": 18
    },
    {
     "cell_type": "code",
     "collapsed": false,
     "input": [
      "df = pd.read_csv('data/train.csv')\n",
      "df.head()"
     ],
     "language": "python",
     "metadata": {},
     "outputs": [
      {
       "html": [
        "<div style=\"max-height:1000px;max-width:1500px;overflow:auto;\">\n",
        "<table border=\"1\" class=\"dataframe\">\n",
        "  <thead>\n",
        "    <tr style=\"text-align: right;\">\n",
        "      <th></th>\n",
        "      <th>PassengerId</th>\n",
        "      <th>Survived</th>\n",
        "      <th>Pclass</th>\n",
        "      <th>Name</th>\n",
        "      <th>Sex</th>\n",
        "      <th>...</th>\n",
        "      <th>Parch</th>\n",
        "      <th>Ticket</th>\n",
        "      <th>Fare</th>\n",
        "      <th>Cabin</th>\n",
        "      <th>Embarked</th>\n",
        "    </tr>\n",
        "  </thead>\n",
        "  <tbody>\n",
        "    <tr>\n",
        "      <th>0</th>\n",
        "      <td> 1</td>\n",
        "      <td> 0</td>\n",
        "      <td> 3</td>\n",
        "      <td>                           Braund, Mr. Owen Harris</td>\n",
        "      <td>   male</td>\n",
        "      <td>...</td>\n",
        "      <td> 0</td>\n",
        "      <td>        A/5 21171</td>\n",
        "      <td>  7.2500</td>\n",
        "      <td>  NaN</td>\n",
        "      <td> S</td>\n",
        "    </tr>\n",
        "    <tr>\n",
        "      <th>1</th>\n",
        "      <td> 2</td>\n",
        "      <td> 1</td>\n",
        "      <td> 1</td>\n",
        "      <td> Cumings, Mrs. John Bradley (Florence Briggs Th...</td>\n",
        "      <td> female</td>\n",
        "      <td>...</td>\n",
        "      <td> 0</td>\n",
        "      <td>         PC 17599</td>\n",
        "      <td> 71.2833</td>\n",
        "      <td>  C85</td>\n",
        "      <td> C</td>\n",
        "    </tr>\n",
        "    <tr>\n",
        "      <th>2</th>\n",
        "      <td> 3</td>\n",
        "      <td> 1</td>\n",
        "      <td> 3</td>\n",
        "      <td>                            Heikkinen, Miss. Laina</td>\n",
        "      <td> female</td>\n",
        "      <td>...</td>\n",
        "      <td> 0</td>\n",
        "      <td> STON/O2. 3101282</td>\n",
        "      <td>  7.9250</td>\n",
        "      <td>  NaN</td>\n",
        "      <td> S</td>\n",
        "    </tr>\n",
        "    <tr>\n",
        "      <th>3</th>\n",
        "      <td> 4</td>\n",
        "      <td> 1</td>\n",
        "      <td> 1</td>\n",
        "      <td>      Futrelle, Mrs. Jacques Heath (Lily May Peel)</td>\n",
        "      <td> female</td>\n",
        "      <td>...</td>\n",
        "      <td> 0</td>\n",
        "      <td>           113803</td>\n",
        "      <td> 53.1000</td>\n",
        "      <td> C123</td>\n",
        "      <td> S</td>\n",
        "    </tr>\n",
        "    <tr>\n",
        "      <th>4</th>\n",
        "      <td> 5</td>\n",
        "      <td> 0</td>\n",
        "      <td> 3</td>\n",
        "      <td>                          Allen, Mr. William Henry</td>\n",
        "      <td>   male</td>\n",
        "      <td>...</td>\n",
        "      <td> 0</td>\n",
        "      <td>           373450</td>\n",
        "      <td>  8.0500</td>\n",
        "      <td>  NaN</td>\n",
        "      <td> S</td>\n",
        "    </tr>\n",
        "  </tbody>\n",
        "</table>\n",
        "<p>5 rows \u00d7 12 columns</p>\n",
        "</div>"
       ],
       "metadata": {},
       "output_type": "pyout",
       "prompt_number": 19,
       "text": [
        "   PassengerId  Survived  Pclass                                               Name     Sex    ...     Parch            Ticket  \\\n",
        "0            1         0       3                            Braund, Mr. Owen Harris    male    ...         0         A/5 21171   \n",
        "1            2         1       1  Cumings, Mrs. John Bradley (Florence Briggs Th...  female    ...         0          PC 17599   \n",
        "2            3         1       3                             Heikkinen, Miss. Laina  female    ...         0  STON/O2. 3101282   \n",
        "3            4         1       1       Futrelle, Mrs. Jacques Heath (Lily May Peel)  female    ...         0            113803   \n",
        "4            5         0       3                           Allen, Mr. William Henry    male    ...         0            373450   \n",
        "\n",
        "      Fare Cabin  Embarked  \n",
        "0   7.2500   NaN         S  \n",
        "1  71.2833   C85         C  \n",
        "2   7.9250   NaN         S  \n",
        "3  53.1000  C123         S  \n",
        "4   8.0500   NaN         S  \n",
        "\n",
        "[5 rows x 12 columns]"
       ]
      }
     ],
     "prompt_number": 19
    },
    {
     "cell_type": "code",
     "collapsed": false,
     "input": [
      "df.Survived.value_counts().plot(kind='barh')"
     ],
     "language": "python",
     "metadata": {},
     "outputs": [
      {
       "metadata": {},
       "output_type": "pyout",
       "prompt_number": 20,
       "text": [
        "<matplotlib.axes._subplots.AxesSubplot at 0x10ac03a50>"
       ]
      },
      {
       "metadata": {},
       "output_type": "display_data",
       "png": "[encoded data removed]",
       "text": [
        "<matplotlib.figure.Figure at 0x10ac03f90>"
       ]
      }
     ],
     "prompt_number": 20
    },
    {
     "cell_type": "code",
     "collapsed": false,
     "input": [
      "df.columns"
     ],
     "language": "python",
     "metadata": {},
     "outputs": [
      {
       "metadata": {},
       "output_type": "pyout",
       "prompt_number": 21,
       "text": [
        "Index([u'PassengerId', u'Survived', u'Pclass', u'Name', u'Sex', u'Age', u'SibSp', u'Parch', u'Ticket', u'Fare', u'Cabin', u'Embarked'], dtype='object')"
       ]
      }
     ],
     "prompt_number": 21
    },
    {
     "cell_type": "code",
     "collapsed": false,
     "input": [
      "plt.scatter(df.Survived, df.Age);"
     ],
     "language": "python",
     "metadata": {},
     "outputs": [
      {
       "metadata": {},
       "output_type": "display_data",
       "png": "[encoded data removed]",
       "text": [
        "<matplotlib.figure.Figure at 0x10ad0e990>"
       ]
      }
     ],
     "prompt_number": 22
    },
    {
     "cell_type": "code",
     "collapsed": false,
     "input": [
      "df.Age[df.Pclass == 1].plot(kind='kde')    \n",
      "df.Age[df.Pclass == 2].plot(kind='kde')\n",
      "df.Age[df.Pclass == 3].plot(kind='kde');"
     ],
     "language": "python",
     "metadata": {},
     "outputs": [
      {
       "metadata": {},
       "output_type": "display_data",
       "png": "[encoded data removed]",
       "text": [
        "<matplotlib.figure.Figure at 0x10ada0510>"
       ]
      }
     ],
     "prompt_number": 23
    },
    {
     "cell_type": "code",
     "collapsed": false,
     "input": [
      "passengers_per_cabin = df.groupby('Cabin').PassengerId.count()\n",
      "ax = passengers_per_cabin.hist()\n",
      "plt.xlabel(\"passengers_per_cabin\")\n",
      "plt.ylabel(\"Count\")\n",
      "plt.figure();"
     ],
     "language": "python",
     "metadata": {},
     "outputs": [
      {
       "metadata": {},
       "output_type": "display_data",
       "png": "[encoded data removed]",
       "text": [
        "<matplotlib.figure.Figure at 0x107d063d0>"
       ]
      },
      {
       "metadata": {},
       "output_type": "display_data",
       "text": [
        "<matplotlib.figure.Figure at 0x1091da850>"
       ]
      }
     ],
     "prompt_number": 24
    },
    {
     "cell_type": "code",
     "collapsed": false,
     "input": [
      "df.Embarked.value_counts().plot(kind='barh', color=colors[3]);"
     ],
     "language": "python",
     "metadata": {},
     "outputs": [
      {
       "metadata": {},
       "output_type": "display_data",
       "png": "[encoded data removed]",
       "text": [
        "<matplotlib.figure.Figure at 0x109195490>"
       ]
      }
     ],
     "prompt_number": 25
    },
    {
     "cell_type": "code",
     "collapsed": false,
     "input": [
      "df.Survived[df.Sex == 'male'].value_counts().plot(kind='barh',label='Male', color=colors[1])\n",
      "df.Survived[df.Sex == 'female'].value_counts().plot(kind='barh',label='Female', color=colors[0]);"
     ],
     "language": "python",
     "metadata": {},
     "outputs": [
      {
       "metadata": {},
       "output_type": "display_data",
       "png": "[encoded data removed]",
       "text": [
        "<matplotlib.figure.Figure at 0x109736f90>"
       ]
      }
     ],
     "prompt_number": 27
    },
    {
     "cell_type": "code",
     "collapsed": false,
     "input": [
      "df.Survived[df.Sex == 'male'].value_counts()"
     ],
     "language": "python",
     "metadata": {},
     "outputs": [
      {
       "metadata": {},
       "output_type": "pyout",
       "prompt_number": 28,
       "text": [
        "0    468\n",
        "1    109\n",
        "dtype: int64"
       ]
      }
     ],
     "prompt_number": 28
    },
    {
     "cell_type": "code",
     "collapsed": false,
     "input": [
      "m = df.Survived[df.Sex == 'male'].value_counts()\n",
      "f = df.Survived[df.Sex == 'female'].value_counts()\n",
      "\n",
      "ind = np.arange(2)\n",
      "width = 0.35       \n",
      "fig = plt.figure()\n",
      "\n",
      "ax = fig.add_subplot(111)\n",
      "rects1 = ax.bar(ind, m, width, color=colors[1])\n",
      "rects2 = ax.bar(ind+width, f, width, color=colors[0])               \n",
      "\n",
      "ax.set_ylabel('Count')\n",
      "ax.set_title('By Gender')\n",
      "ax.set_xticks(ind+width)\n",
      "ax.set_xticklabels(('0', '1'));"
     ],
     "language": "python",
     "metadata": {},
     "outputs": [
      {
       "metadata": {},
       "output_type": "display_data",
       "png": "[encoded data removed]",
       "text": [
        "<matplotlib.figure.Figure at 0x1096cad10>"
       ]
      }
     ],
     "prompt_number": 29
    },
    {
     "cell_type": "code",
     "collapsed": false,
     "input": [
      "# df = df.fillna(df.dropna().median()) #cheating as we using test set to compute\n",
      "features = ['Fare', 'Pclass', 'Age']\n",
      "dummy1 = 'Sex'\n",
      "dummy2 = 'Embarked'\n",
      "target = 'Survived'\n",
      "\n",
      "df_features = pd.concat([df[features],\n",
      "                pd.get_dummies(df[dummy1], prefix=dummy1),\n",
      "                pd.get_dummies(df[dummy2], prefix=dummy2)],\n",
      "                axis=1)\n",
      "\n",
      "df_features = df_features.drop('Sex_male', 1) #remove redundant binary feature\n",
      "df_features = df_features.fillna(-1) #to indicate -1 is missing value\n",
      "\n",
      "# df_features.head()\n",
      "df_features.count()"
     ],
     "language": "python",
     "metadata": {},
     "outputs": [
      {
       "metadata": {},
       "output_type": "pyout",
       "prompt_number": 30,
       "text": [
        "Fare          891\n",
        "Pclass        891\n",
        "Age           891\n",
        "Sex_female    891\n",
        "Embarked_C    891\n",
        "Embarked_Q    891\n",
        "Embarked_S    891\n",
        "dtype: int64"
       ]
      }
     ],
     "prompt_number": 30
    },
    {
     "cell_type": "code",
     "collapsed": false,
     "input": [
      "df.hist(column=features, grid=False, color=colors[6])\n",
      "sns.despine();"
     ],
     "language": "python",
     "metadata": {},
     "outputs": [
      {
       "metadata": {},
       "output_type": "display_data",
       "png": "[encoded data removed]",
       "text": [
        "<matplotlib.figure.Figure at 0x10b0cf850>"
       ]
      }
     ],
     "prompt_number": 31
    },
    {
     "cell_type": "code",
     "collapsed": false,
     "input": [
      "X = df_features.values\n",
      "y = df[target].values\n",
      "n_samples, n_features = X.shape\n",
      "print(\"No. of samples = %d\" % n_samples)\n",
      "print(\"No. of features = %d\" % n_features)"
     ],
     "language": "python",
     "metadata": {},
     "outputs": [
      {
       "output_type": "stream",
       "stream": "stdout",
       "text": [
        "No. of samples = 891\n",
        "No. of features = 7\n"
       ]
      }
     ],
     "prompt_number": 33
    },
    {
     "cell_type": "code",
     "collapsed": false,
     "input": [
      "from sklearn.cross_validation import train_test_split\n",
      "\n",
      "X_train, X_test, y_train, y_test = train_test_split(X, y, test_size=0.2, random_state=0)\n",
      "\n",
      "print \"Train data shape: %r, Train target shape: %r\" % (X_train.shape, y_train.shape)\n",
      "print \"Test data shape: %r, Test target shape: %r\" % (X_test.shape, y_test.shape)"
     ],
     "language": "python",
     "metadata": {},
     "outputs": [
      {
       "output_type": "stream",
       "stream": "stdout",
       "text": [
        "Train data shape: (712, 7), Train target shape: (712,)\n",
        "Test data shape: (179, 7), Test target shape: (179,)\n"
       ]
      }
     ],
     "prompt_number": 34
    },
    {
     "cell_type": "code",
     "collapsed": false,
     "input": [
      "%%time \n",
      "\n",
      "from sklearn.ensemble import RandomForestClassifier\n",
      "\n",
      "clf = RandomForestClassifier(n_estimators=500).fit(X_train, y_train)\n",
      "\n",
      "training_accuracy = clf.score(X_train, y_train)\n",
      "test_accuracy = clf.score(X_test, y_test)\n",
      "\n",
      "print \"Training Score: %0.2f%%\" % (100 * training_accuracy)\n",
      "print \"Test Score: %0.2f%%\" % (100 * test_accuracy)"
     ],
     "language": "python",
     "metadata": {},
     "outputs": [
      {
       "output_type": "stream",
       "stream": "stdout",
       "text": [
        "Training Score: 97.89%\n",
        "Test Score: 83.80%\n",
        "CPU times: user 666 ms, sys: 29.3 ms, total: 695 ms\n",
        "Wall time: 685 ms\n"
       ]
      }
     ],
     "prompt_number": 35
    },
    {
     "cell_type": "code",
     "collapsed": false,
     "input": [
      "from sklearn.cross_validation import cross_val_score\n",
      "\n",
      "scores = cross_val_score(clf, \n",
      "                         X, y, \n",
      "                         cv=3)\n",
      "\n",
      "print \"CV Score (min): %0.2f%%\" % (100 * scores.min())\n",
      "print \"CV Score (mean): %0.2f%%\" % (100 * scores.mean())\n",
      "print \"CV Score (max): %0.2f%%\" % (100 * scores.max())"
     ],
     "language": "python",
     "metadata": {},
     "outputs": [
      {
       "output_type": "stream",
       "stream": "stdout",
       "text": [
        "CV Score (min): 78.11%\n",
        "CV Score (mean): 79.35%\n",
        "CV Score (max): 81.48%\n"
       ]
      }
     ],
     "prompt_number": 37
    },
    {
     "cell_type": "code",
     "collapsed": false,
     "input": [
      "from sklearn.pipeline import Pipeline\n",
      "from sklearn.preprocessing import Imputer\n",
      "\n",
      "imputer = Imputer(strategy='mean', missing_values=-1)\n",
      "\n",
      "est = RandomForestClassifier(n_estimators=300)\n",
      "\n",
      "pipeline = Pipeline([\n",
      "    ('imp', imputer),\n",
      "    ('clf', est),\n",
      "])"
     ],
     "language": "python",
     "metadata": {},
     "outputs": [],
     "prompt_number": 38
    },
    {
     "cell_type": "code",
     "collapsed": false,
     "input": [
      "from sklearn.grid_search import GridSearchCV\n",
      "\n",
      "params = {'imp__strategy': ['mean', 'median'],\n",
      "          'clf__max_features': ['sqrt', 'log2'],\n",
      "          'clf__n_estimators': [100, 200, 500, 1000]\n",
      "          }\n",
      "\n",
      "n_subsamples = 100\n",
      "X_small_train, y_small_train = X_train[:n_subsamples], y_train[:n_subsamples]\n",
      "\n",
      "gs = GridSearchCV(pipeline, params, cv=3,\n",
      "                  n_jobs=4,\n",
      "                  verbose=2)\n",
      "\n",
      "_ = gs.fit(X_small_train, y_small_train)\n",
      "\n",
      "print \"GS Best Score: %0.2f%%\" % (100 *  gs.best_score_)\n",
      "print \"GS Best Params:\", gs.best_params_"
     ],
     "language": "python",
     "metadata": {},
     "outputs": [
      {
       "output_type": "stream",
       "stream": "stdout",
       "text": [
        "Fitting 3 folds for each of 16 candidates, totalling 48 fits\n"
       ]
      },
      {
       "output_type": "stream",
       "stream": "stderr",
       "text": [
        "[Parallel(n_jobs=4)]: Done   1 jobs       | elapsed:    0.2s\n",
        "[Parallel(n_jobs=4)]: Done  41 jobs       | elapsed:    5.9s\n",
        "[Parallel(n_jobs=4)]: Done  42 out of  48 | elapsed:    5.9s remaining:    0.8s\n",
        "[Parallel(n_jobs=4)]: Done  48 out of  48 | elapsed:    7.9s finished\n"
       ]
      },
      {
       "output_type": "stream",
       "stream": "stdout",
       "text": [
        "GS Best Score: 70.00%\n",
        "GS Best Params: {'clf__max_features': 'sqrt', 'imp__strategy': 'median', 'clf__n_estimators': 200}\n",
        "[CV] clf__max_features=sqrt, clf__n_estimators=100, imp__strategy=mean \n",
        "[CV] clf__max_features=sqrt, clf__n_estimators=100, imp__strategy=mean \n",
        "[CV] clf__max_features=sqrt, clf__n_estimators=100, imp__strategy=mean \n",
        "[CV] clf__max_features=sqrt, clf__n_estimators=100, imp__strategy=median \n",
        "[CV]  clf__max_features=sqrt, clf__n_estimators=100, imp__strategy=mean -   0.1s[CV]  clf__max_features=sqrt, clf__n_estimators=100, imp__strategy=mean -   0.1s[CV]  clf__max_features=sqrt, clf__n_estimators=100, imp__strategy=mean -   0.1s[CV]  clf__max_features=sqrt, clf__n_estimators=100, imp__strategy=median -   0.1s\n",
        "\n",
        "\n",
        "\n",
        "[CV] clf__max_features=sqrt, clf__n_estimators=200, imp__strategy=mean \n",
        "[CV] clf__max_features=sqrt, clf__n_estimators=200, imp__strategy=mean \n",
        "[CV] clf__max_features=sqrt, clf__n_estimators=100, imp__strategy=median \n",
        "[CV] clf__max_features=sqrt, clf__n_estimators=100, imp__strategy=median \n",
        "[CV]  clf__max_features=sqrt, clf__n_estimators=200, imp__strategy=mean -   0.3s[CV]  clf__max_features=sqrt, clf__n_estimators=200, imp__strategy=mean -   0.3s[CV]  clf__max_features=sqrt, clf__n_estimators=100, imp__strategy=median -   0.2s[CV]  clf__max_features=sqrt, clf__n_estimators=100, imp__strategy=median -   0.2s\n",
        "\n",
        "\n",
        "\n",
        "[CV] clf__max_features=sqrt, clf__n_estimators=200, imp__strategy=median \n",
        "[CV] clf__max_features=sqrt, clf__n_estimators=200, imp__strategy=median \n",
        "[CV] clf__max_features=sqrt, clf__n_estimators=200, imp__strategy=mean \n",
        "[CV] clf__max_features=sqrt, clf__n_estimators=200, imp__strategy=median \n",
        "[CV]  clf__max_features=sqrt, clf__n_estimators=200, imp__strategy=median -   0.3s[CV]  clf__max_features=sqrt, clf__n_estimators=200, imp__strategy=median -   0.3s[CV]  clf__max_features=sqrt, clf__n_estimators=200, imp__strategy=mean -   0.3s[CV]  clf__max_features=sqrt, clf__n_estimators=200, imp__strategy=median -   0.3s\n",
        "\n",
        "\n",
        "\n",
        "[CV] clf__max_features=sqrt, clf__n_estimators=500, imp__strategy=median \n",
        "[CV] clf__max_features=sqrt, clf__n_estimators=500, imp__strategy=mean \n",
        "[CV] clf__max_features=sqrt, clf__n_estimators=500, imp__strategy=mean \n",
        "[CV] clf__max_features=sqrt, clf__n_estimators=500, imp__strategy=mean \n",
        "[CV]  clf__max_features=sqrt, clf__n_estimators=500, imp__strategy=median -   0.6s[CV]  clf__max_features=sqrt, clf__n_estimators=500, imp__strategy=mean -   0.6s[CV]  clf__max_features=sqrt, clf__n_estimators=500, imp__strategy=mean -   0.6s[CV]  clf__max_features=sqrt, clf__n_estimators=500, imp__strategy=mean -   0.6s\n",
        "\n",
        "\n",
        "\n",
        "[CV] clf__max_features=sqrt, clf__n_estimators=1000, imp__strategy=mean \n",
        "[CV] clf__max_features=sqrt, clf__n_estimators=1000, imp__strategy=mean \n",
        "[CV] clf__max_features=sqrt, clf__n_estimators=500, imp__strategy=median \n",
        "[CV] clf__max_features=sqrt, clf__n_estimators=500, imp__strategy=median \n",
        "[CV]  clf__max_features=sqrt, clf__n_estimators=1000, imp__strategy=mean -   1.4s[CV]  clf__max_features=sqrt, clf__n_estimators=1000, imp__strategy=mean -   1.4s[CV]  clf__max_features=sqrt, clf__n_estimators=500, imp__strategy=median -   0.8s[CV]  clf__max_features=sqrt, clf__n_estimators=500, imp__strategy=median -   0.9s\n",
        "\n",
        "\n",
        "\n",
        "[CV] clf__max_features=sqrt, clf__n_estimators=1000, imp__strategy=median \n",
        "[CV] clf__max_features=sqrt, clf__n_estimators=1000, imp__strategy=median \n",
        "[CV] clf__max_features=sqrt, clf__n_estimators=1000, imp__strategy=mean \n",
        "[CV] clf__max_features=sqrt, clf__n_estimators=1000, imp__strategy=median \n",
        "[CV]  clf__max_features=sqrt, clf__n_estimators=1000, imp__strategy=median -   1.4s[CV]  clf__max_features=sqrt, clf__n_estimators=1000, imp__strategy=median -   1.4s[CV]  clf__max_features=sqrt, clf__n_estimators=1000, imp__strategy=mean -   1.3s[CV]  clf__max_features=sqrt, clf__n_estimators=1000, imp__strategy=median -   1.3s\n",
        "\n",
        "\n",
        "\n",
        "[CV] clf__max_features=log2, clf__n_estimators=200, imp__strategy=median \n",
        "[CV] clf__max_features=log2, clf__n_estimators=200, imp__strategy=median \n",
        "[CV] clf__max_features=log2, clf__n_estimators=100, imp__strategy=mean \n",
        "[CV] clf__max_features=log2, clf__n_estimators=100, imp__strategy=mean \n",
        "[CV]  clf__max_features=log2, clf__n_estimators=200, imp__strategy=median -   0.4s[CV]  clf__max_features=log2, clf__n_estimators=200, imp__strategy=median -   0.3s[CV]  clf__max_features=log2, clf__n_estimators=100, imp__strategy=mean -   0.1s[CV]  clf__max_features=log2, clf__n_estimators=100, imp__strategy=mean -   0.1s\n",
        "\n",
        "\n",
        "\n",
        "[CV] clf__max_features=log2, clf__n_estimators=500, imp__strategy=mean \n",
        "[CV] clf__max_features=log2, clf__n_estimators=500, imp__strategy=median \n",
        "[CV] clf__max_features=log2, clf__n_estimators=100, imp__strategy=mean \n",
        "[CV] clf__max_features=log2, clf__n_estimators=100, imp__strategy=median \n",
        "[CV]  clf__max_features=log2, clf__n_estimators=500, imp__strategy=mean -   0.6s[CV]  clf__max_features=log2, clf__n_estimators=500, imp__strategy=median -   0.6s[CV]  clf__max_features=log2, clf__n_estimators=100, imp__strategy=mean -   0.1s[CV]  clf__max_features=log2, clf__n_estimators=100, imp__strategy=median -   0.1s\n",
        "\n",
        "\n",
        "\n",
        "[CV] clf__max_features=log2, clf__n_estimators=1000, imp__strategy=mean \n",
        "[CV] clf__max_features=log2, clf__n_estimators=1000, imp__strategy=mean \n",
        "[CV] clf__max_features=log2, clf__n_estimators=100, imp__strategy=median \n",
        "[CV] clf__max_features=log2, clf__n_estimators=100, imp__strategy=median \n",
        "[CV]  clf__max_features=log2, clf__n_estimators=1000, imp__strategy=mean -   1.4s[CV]  clf__max_features=log2, clf__n_estimators=1000, imp__strategy=mean -   1.3s[CV]  clf__max_features=log2, clf__n_estimators=100, imp__strategy=median -   0.1s[CV]  clf__max_features=log2, clf__n_estimators=100, imp__strategy=median -   0.1s\n",
        "\n",
        "\n",
        "\n",
        "[CV] clf__max_features=log2, clf__n_estimators=1000, imp__strategy=median \n",
        "[CV] clf__max_features=log2, clf__n_estimators=1000, imp__strategy=median \n",
        "[CV] clf__max_features=log2, clf__n_estimators=200, imp__strategy=mean \n",
        "[CV] clf__max_features=log2, clf__n_estimators=200, imp__strategy=mean \n",
        "[CV]  clf__max_features=log2, clf__n_estimators=1000, imp__strategy=median -   1.2s[CV]  clf__max_features=log2, clf__n_estimators=1000, imp__strategy=median -   1.2s[CV]  clf__max_features=log2, clf__n_estimators=200, imp__strategy=mean -   0.3s[CV]  clf__max_features=log2, clf__n_estimators=200, imp__strategy=mean -   0.3s\n",
        "\n",
        "\n",
        "\n",
        "[CV] clf__max_features=log2, clf__n_estimators=200, imp__strategy=median \n",
        "[CV] clf__max_features=log2, clf__n_estimators=200, imp__strategy=mean \n",
        "[CV]  clf__max_features=log2, clf__n_estimators=200, imp__strategy=median -   0.3s[CV]  clf__max_features=log2, clf__n_estimators=200, imp__strategy=mean -   0.3s\n",
        "\n",
        "[CV] clf__max_features=log2, clf__n_estimators=500, imp__strategy=mean \n",
        "[CV] clf__max_features=log2, clf__n_estimators=500, imp__strategy=mean \n",
        "[CV]  clf__max_features=log2, clf__n_estimators=500, imp__strategy=mean -   0.6s[CV]  clf__max_features=log2, clf__n_estimators=500, imp__strategy=mean -   0.7s\n",
        "\n",
        "[CV] clf__max_features=log2, clf__n_estimators=500, imp__strategy=median \n",
        "[CV] clf__max_features=log2, clf__n_estimators=500, imp__strategy=median \n",
        "[CV]  clf__max_features=log2, clf__n_estimators=500, imp__strategy=median -   0.7s[CV]  clf__max_features=log2, clf__n_estimators=500, imp__strategy=median -   0.7s\n",
        "\n",
        "[CV] clf__max_features=log2, clf__n_estimators=1000, imp__strategy=median \n",
        "[CV] clf__max_features=log2, clf__n_estimators=1000, imp__strategy=mean \n",
        "[CV]  clf__max_features=log2, clf__n_estimators=1000, imp__strategy=median -   1.4s[CV]  clf__max_features=log2, clf__n_estimators=1000, imp__strategy=mean -   1.4s\n",
        "\n"
       ]
      }
     ],
     "prompt_number": 39
    },
    {
     "cell_type": "code",
     "collapsed": false,
     "input": [
      "X_train, X_test, y_train, y_test = train_test_split(X, y, test_size=0.2, random_state=0)\n",
      "\n",
      "pipeline.set_params(**gs.best_params_)\n",
      "est.fit(X_train, y_train)\n",
      "\n",
      "training_accuracy = est.score(X_train, y_train)\n",
      "test_accuracy = est.score(X_test, y_test)\n",
      "\n",
      "print \"Training Score: %0.2f%%\" % (100 * training_accuracy)\n",
      "print \"Test Score: %0.2f%%\" % (100 * test_accuracy)"
     ],
     "language": "python",
     "metadata": {},
     "outputs": [
      {
       "output_type": "stream",
       "stream": "stdout",
       "text": [
        "Training Score: 97.89%\n",
        "Test Score: 82.68%\n"
       ]
      }
     ],
     "prompt_number": 50
    },
    {
     "cell_type": "code",
     "collapsed": false,
     "input": [
      "test_df = pd.read_csv(\"../titanic/data/test.csv\")\n",
      "\n",
      "test_features = pd.concat([test_df[features],\n",
      "                pd.get_dummies(test_df[dummy1], prefix=dummy1),\n",
      "                pd.get_dummies(test_df[dummy2], prefix=dummy2)],\n",
      "                axis=1)\n",
      "\n",
      "test_features = test_features.drop('Sex_male', 1) #remove redundant binary feature\n",
      "test_features = test_features.fillna(-1) #to indicate -1 is missing value\n",
      "\n",
      "test_df[\"Survived\"] = pd.Series(est.predict(test_features))\n",
      "test_df.to_csv(\"rf.csv\", cols=['PassengerId', 'Survived'], index=False)"
     ],
     "language": "python",
     "metadata": {},
     "outputs": [],
     "prompt_number": 62
    }
   ],
   "metadata": {}
  }
 ]
}