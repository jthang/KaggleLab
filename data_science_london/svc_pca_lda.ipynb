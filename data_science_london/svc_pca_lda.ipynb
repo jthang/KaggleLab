{
 "metadata": {
  "name": "",
  "signature": "sha256:95424ea1ab4a49c9becc4b6556ed7fb1da5b16bb3d0944075d49a60f1a3cfdb3"
 },
 "nbformat": 3,
 "nbformat_minor": 0,
 "worksheets": [
  {
   "cells": [
    {
     "cell_type": "markdown",
     "metadata": {},
     "source": [
      "#<span style=\"background-color:#66FF99\">Data Science London<span/>\n",
      "<img src=\"../images/ds.png\">"
     ]
    },
    {
     "cell_type": "markdown",
     "metadata": {},
     "source": [
      "#Random Forests\n",
      "[back to top](#contents)"
     ]
    },
    {
     "cell_type": "markdown",
     "metadata": {},
     "source": [
      "###Preliminaries\n",
      "[back to top](#contents)"
     ]
    },
    {
     "cell_type": "code",
     "collapsed": false,
     "input": [
      "%matplotlib inline\n",
      "import pandas as pd\n",
      "import numpy as np\n",
      "import matplotlib.pyplot as plt\n",
      "import seaborn as sns\n",
      "from sklearn.cross_validation import train_test_split\n",
      "from sklearn.cross_validation import cross_val_score\n",
      "from sklearn.metrics import accuracy_score\n",
      "from sklearn.preprocessing import StandardScaler, normalize\n",
      "from sklearn.ensemble import ExtraTreesClassifier\n",
      "from sklearn.svm import SVC\n",
      "from sklearn.grid_search import GridSearchCV\n",
      "from sklearn.lda import LDA\n",
      "from sklearn.decomposition import PCA\n",
      "\n",
      "sns.set(style=\"white\")\n",
      "plt.rc(\"figure\", figsize=(10, 6))\n",
      "np.set_printoptions(precision=4)\n",
      "\n",
      "colors = [\"#348ABD\", \"#A60628\", \"#7A68A6\", \"#467821\", \"#D55E00\",\n",
      "          \"#CC79A7\", \"#56B4E9\", \"#009E73\", \"#F0E442\", \"#0072B2\"]\n",
      "cmap = sns.diverging_palette(220, 10, as_cmap=True)\n",
      "\n",
      "import warnings\n",
      "warnings.simplefilter('ignore', DeprecationWarning)"
     ],
     "language": "python",
     "metadata": {},
     "outputs": [],
     "prompt_number": 147
    },
    {
     "cell_type": "code",
     "collapsed": false,
     "input": [
      "class TransformWrapper(BaseEstimator):\n",
      "\n",
      "    def __init__(self, clf, transformation, fit_transform=True):\n",
      "        self.clf = clf\n",
      "        self.fit_transform = fit_transform\n",
      "        self.transformation = transformation\n",
      "\n",
      "    def fit(self, X, y=None):\n",
      "        if self.fit_transform:\n",
      "            self.transformation.fit(X)\n",
      "        _X = self._pretransform(X)\n",
      "        if y is None:\n",
      "            self.clf.fit(_X)\n",
      "        else:\n",
      "            self.clf.fit(_X, y)\n",
      "\n",
      "    def predict(self, X):\n",
      "        _X = self._pretransform(X)\n",
      "        return self.clf.predict(_X)\n",
      "\n",
      "    def predict_proba(self, X):\n",
      "        _X = self._pretransform(X)\n",
      "        return self.clf.predict_proba(_X)\n",
      "\n",
      "    def score(self, X, y):\n",
      "        y_pred = self.predict(X)\n",
      "        return accuracy_score(y, y_pred)\n",
      "    \n",
      "    def transform(self, X):\n",
      "        _X = self._pretransform(X)\n",
      "        return self.clf.transform(_X)\n",
      "\n",
      "    def _pretransform(self, X):\n",
      "        return self.transformation.transform(X)\n",
      "\n",
      "class FeatureMixer(BaseEstimator):\n",
      "\n",
      "    def __init__(self, clfs, ignorefit=False):\n",
      "        self.clfs = clfs\n",
      "        self.ignorefit = ignorefit\n",
      "\n",
      "    def fit_transform(self, X, y=None):\n",
      "        if not self.ignorefit:\n",
      "            self.fit(X, y)\n",
      "        return self.transform(X)\n",
      "\n",
      "    def fit(self, X, y=None):\n",
      "        if not self.ignorefit:\n",
      "            for clf in self.clfs:\n",
      "                new = clf.fit_transform(X, y)\n",
      "\n",
      "    def transform(self, X):\n",
      "        ans = None\n",
      "        for clf in self.clfs:\n",
      "            new = clf.transform(X)\n",
      "            if ans is None:\n",
      "                ans = new\n",
      "            else:\n",
      "                ans = np.hstack((ans, new))\n",
      "        return ans"
     ],
     "language": "python",
     "metadata": {},
     "outputs": [],
     "prompt_number": 217
    },
    {
     "cell_type": "markdown",
     "metadata": {},
     "source": [
      "###Load Data\n",
      "[back to top](#contents)"
     ]
    },
    {
     "cell_type": "code",
     "collapsed": false,
     "input": [
      "X_df = pd.read_csv(\"../data_science_london/data/train.csv\", header=None)\n",
      "y_df = pd.read_csv(\"../data_science_london/data/trainLabels.csv\", header=None)\n",
      "X_pred_df = pd.read_csv(\"../data_science_london/data/test.csv\", header=None)\n",
      "\n",
      "X = X_df.values\n",
      "y = y_df[0].values\n",
      "X_pred = X_pred_df.values\n",
      "X_combined = np.r_[X, X_pred]\n",
      "\n",
      "print X.shape, y.shape, X_pred.shape, X_combined.shape\n",
      "\n",
      "X_df.describe()"
     ],
     "language": "python",
     "metadata": {},
     "outputs": [
      {
       "output_type": "stream",
       "stream": "stdout",
       "text": [
        "(1000, 40) (1000,) (9000, 40) (10000, 40)\n"
       ]
      },
      {
       "html": [
        "<div style=\"max-height:1000px;max-width:1500px;overflow:auto;\">\n",
        "<table border=\"1\" class=\"dataframe\">\n",
        "  <thead>\n",
        "    <tr style=\"text-align: right;\">\n",
        "      <th></th>\n",
        "      <th>0</th>\n",
        "      <th>1</th>\n",
        "      <th>2</th>\n",
        "      <th>3</th>\n",
        "      <th>4</th>\n",
        "      <th>5</th>\n",
        "      <th>6</th>\n",
        "      <th>7</th>\n",
        "      <th>8</th>\n",
        "      <th>9</th>\n",
        "      <th>...</th>\n",
        "      <th>30</th>\n",
        "      <th>31</th>\n",
        "      <th>32</th>\n",
        "      <th>33</th>\n",
        "      <th>34</th>\n",
        "      <th>35</th>\n",
        "      <th>36</th>\n",
        "      <th>37</th>\n",
        "      <th>38</th>\n",
        "      <th>39</th>\n",
        "    </tr>\n",
        "  </thead>\n",
        "  <tbody>\n",
        "    <tr>\n",
        "      <th>count</th>\n",
        "      <td> 1000.000000</td>\n",
        "      <td> 1000.000000</td>\n",
        "      <td> 1000.000000</td>\n",
        "      <td> 1000.000000</td>\n",
        "      <td> 1000.000000</td>\n",
        "      <td> 1000.000000</td>\n",
        "      <td> 1000.000000</td>\n",
        "      <td> 1000.000000</td>\n",
        "      <td> 1000.000000</td>\n",
        "      <td> 1000.000000</td>\n",
        "      <td>...</td>\n",
        "      <td> 1000.000000</td>\n",
        "      <td> 1000.000000</td>\n",
        "      <td> 1000.000000</td>\n",
        "      <td> 1000.000000</td>\n",
        "      <td> 1000.000000</td>\n",
        "      <td> 1000.000000</td>\n",
        "      <td> 1000.000000</td>\n",
        "      <td> 1000.000000</td>\n",
        "      <td> 1000.000000</td>\n",
        "      <td> 1000.000000</td>\n",
        "    </tr>\n",
        "    <tr>\n",
        "      <th>mean</th>\n",
        "      <td>    0.025596</td>\n",
        "      <td>   -0.024526</td>\n",
        "      <td>   -0.024088</td>\n",
        "      <td>   -0.002271</td>\n",
        "      <td>    1.092329</td>\n",
        "      <td>   -0.006250</td>\n",
        "      <td>    0.497342</td>\n",
        "      <td>   -0.037883</td>\n",
        "      <td>    0.026391</td>\n",
        "      <td>   -0.003597</td>\n",
        "      <td>...</td>\n",
        "      <td>    0.030651</td>\n",
        "      <td>    0.022951</td>\n",
        "      <td>   -0.542491</td>\n",
        "      <td>   -0.011608</td>\n",
        "      <td>   -0.483507</td>\n",
        "      <td>    0.033371</td>\n",
        "      <td>    0.567185</td>\n",
        "      <td>    0.006849</td>\n",
        "      <td>   -0.892659</td>\n",
        "      <td>    0.609451</td>\n",
        "    </tr>\n",
        "    <tr>\n",
        "      <th>std</th>\n",
        "      <td>    1.008282</td>\n",
        "      <td>    1.016298</td>\n",
        "      <td>    0.979109</td>\n",
        "      <td>    0.970575</td>\n",
        "      <td>    4.538834</td>\n",
        "      <td>    0.989128</td>\n",
        "      <td>    2.118819</td>\n",
        "      <td>    2.232256</td>\n",
        "      <td>    1.001064</td>\n",
        "      <td>    1.013520</td>\n",
        "      <td>...</td>\n",
        "      <td>    1.011645</td>\n",
        "      <td>    1.001375</td>\n",
        "      <td>    2.239939</td>\n",
        "      <td>    1.022456</td>\n",
        "      <td>    2.121281</td>\n",
        "      <td>    1.007044</td>\n",
        "      <td>    2.227876</td>\n",
        "      <td>    0.997635</td>\n",
        "      <td>    2.022022</td>\n",
        "      <td>    2.045439</td>\n",
        "    </tr>\n",
        "    <tr>\n",
        "      <th>min</th>\n",
        "      <td>   -3.365711</td>\n",
        "      <td>   -3.492086</td>\n",
        "      <td>   -2.695602</td>\n",
        "      <td>   -3.460471</td>\n",
        "      <td>  -16.421901</td>\n",
        "      <td>   -3.041250</td>\n",
        "      <td>   -7.224761</td>\n",
        "      <td>   -6.509084</td>\n",
        "      <td>   -3.145588</td>\n",
        "      <td>   -2.749812</td>\n",
        "      <td>...</td>\n",
        "      <td>   -3.379194</td>\n",
        "      <td>   -2.971125</td>\n",
        "      <td>   -7.840890</td>\n",
        "      <td>   -2.999564</td>\n",
        "      <td>   -7.124105</td>\n",
        "      <td>   -2.952358</td>\n",
        "      <td>   -5.452254</td>\n",
        "      <td>   -3.473913</td>\n",
        "      <td>   -8.051722</td>\n",
        "      <td>   -7.799086</td>\n",
        "    </tr>\n",
        "    <tr>\n",
        "      <th>25%</th>\n",
        "      <td>   -0.669010</td>\n",
        "      <td>   -0.693937</td>\n",
        "      <td>   -0.698830</td>\n",
        "      <td>   -0.617557</td>\n",
        "      <td>   -1.801997</td>\n",
        "      <td>   -0.732265</td>\n",
        "      <td>   -0.838619</td>\n",
        "      <td>   -1.604037</td>\n",
        "      <td>   -0.677562</td>\n",
        "      <td>   -0.682220</td>\n",
        "      <td>...</td>\n",
        "      <td>   -0.659457</td>\n",
        "      <td>   -0.696032</td>\n",
        "      <td>   -2.121943</td>\n",
        "      <td>   -0.664550</td>\n",
        "      <td>   -1.879247</td>\n",
        "      <td>   -0.642861</td>\n",
        "      <td>   -1.059786</td>\n",
        "      <td>   -0.691162</td>\n",
        "      <td>   -2.220126</td>\n",
        "      <td>   -0.565041</td>\n",
        "    </tr>\n",
        "    <tr>\n",
        "      <th>50%</th>\n",
        "      <td>    0.027895</td>\n",
        "      <td>   -0.033194</td>\n",
        "      <td>    0.008145</td>\n",
        "      <td>    0.002327</td>\n",
        "      <td>    0.862818</td>\n",
        "      <td>    0.027041</td>\n",
        "      <td>    0.582321</td>\n",
        "      <td>    0.018809</td>\n",
        "      <td>    0.022092</td>\n",
        "      <td>   -0.036110</td>\n",
        "      <td>...</td>\n",
        "      <td>    0.049416</td>\n",
        "      <td>    0.049778</td>\n",
        "      <td>   -0.568262</td>\n",
        "      <td>   -0.028097</td>\n",
        "      <td>   -0.493575</td>\n",
        "      <td>    0.037732</td>\n",
        "      <td>    0.455474</td>\n",
        "      <td>    0.038284</td>\n",
        "      <td>   -0.855470</td>\n",
        "      <td>    0.779944</td>\n",
        "    </tr>\n",
        "    <tr>\n",
        "      <th>75%</th>\n",
        "      <td>    0.762520</td>\n",
        "      <td>    0.682753</td>\n",
        "      <td>    0.661434</td>\n",
        "      <td>    0.640743</td>\n",
        "      <td>    3.843172</td>\n",
        "      <td>    0.671456</td>\n",
        "      <td>    1.913664</td>\n",
        "      <td>    1.438304</td>\n",
        "      <td>    0.741310</td>\n",
        "      <td>    0.665364</td>\n",
        "      <td>...</td>\n",
        "      <td>    0.747031</td>\n",
        "      <td>    0.699917</td>\n",
        "      <td>    0.939348</td>\n",
        "      <td>    0.651374</td>\n",
        "      <td>    1.005795</td>\n",
        "      <td>    0.691800</td>\n",
        "      <td>    2.122157</td>\n",
        "      <td>    0.693535</td>\n",
        "      <td>    0.388698</td>\n",
        "      <td>    1.992193</td>\n",
        "    </tr>\n",
        "    <tr>\n",
        "      <th>max</th>\n",
        "      <td>    3.326246</td>\n",
        "      <td>    3.583870</td>\n",
        "      <td>    2.546507</td>\n",
        "      <td>    3.088738</td>\n",
        "      <td>   17.565345</td>\n",
        "      <td>    3.102997</td>\n",
        "      <td>    7.592666</td>\n",
        "      <td>    7.130097</td>\n",
        "      <td>    3.145258</td>\n",
        "      <td>    3.919426</td>\n",
        "      <td>...</td>\n",
        "      <td>    2.844792</td>\n",
        "      <td>    3.688047</td>\n",
        "      <td>    7.160379</td>\n",
        "      <td>    3.353631</td>\n",
        "      <td>    6.005818</td>\n",
        "      <td>    3.420561</td>\n",
        "      <td>    6.603499</td>\n",
        "      <td>    3.492548</td>\n",
        "      <td>    5.774120</td>\n",
        "      <td>    6.803984</td>\n",
        "    </tr>\n",
        "  </tbody>\n",
        "</table>\n",
        "<p>8 rows \u00d7 40 columns</p>\n",
        "</div>"
       ],
       "metadata": {},
       "output_type": "pyout",
       "prompt_number": 295,
       "text": [
        "                0            1            2            3            4   \\\n",
        "count  1000.000000  1000.000000  1000.000000  1000.000000  1000.000000   \n",
        "mean      0.025596    -0.024526    -0.024088    -0.002271     1.092329   \n",
        "std       1.008282     1.016298     0.979109     0.970575     4.538834   \n",
        "min      -3.365711    -3.492086    -2.695602    -3.460471   -16.421901   \n",
        "25%      -0.669010    -0.693937    -0.698830    -0.617557    -1.801997   \n",
        "50%       0.027895    -0.033194     0.008145     0.002327     0.862818   \n",
        "75%       0.762520     0.682753     0.661434     0.640743     3.843172   \n",
        "max       3.326246     3.583870     2.546507     3.088738    17.565345   \n",
        "\n",
        "                5            6            7            8            9   \\\n",
        "count  1000.000000  1000.000000  1000.000000  1000.000000  1000.000000   \n",
        "mean     -0.006250     0.497342    -0.037883     0.026391    -0.003597   \n",
        "std       0.989128     2.118819     2.232256     1.001064     1.013520   \n",
        "min      -3.041250    -7.224761    -6.509084    -3.145588    -2.749812   \n",
        "25%      -0.732265    -0.838619    -1.604037    -0.677562    -0.682220   \n",
        "50%       0.027041     0.582321     0.018809     0.022092    -0.036110   \n",
        "75%       0.671456     1.913664     1.438304     0.741310     0.665364   \n",
        "max       3.102997     7.592666     7.130097     3.145258     3.919426   \n",
        "\n",
        "          ...                30           31           32           33  \\\n",
        "count     ...       1000.000000  1000.000000  1000.000000  1000.000000   \n",
        "mean      ...          0.030651     0.022951    -0.542491    -0.011608   \n",
        "std       ...          1.011645     1.001375     2.239939     1.022456   \n",
        "min       ...         -3.379194    -2.971125    -7.840890    -2.999564   \n",
        "25%       ...         -0.659457    -0.696032    -2.121943    -0.664550   \n",
        "50%       ...          0.049416     0.049778    -0.568262    -0.028097   \n",
        "75%       ...          0.747031     0.699917     0.939348     0.651374   \n",
        "max       ...          2.844792     3.688047     7.160379     3.353631   \n",
        "\n",
        "                34           35           36           37           38  \\\n",
        "count  1000.000000  1000.000000  1000.000000  1000.000000  1000.000000   \n",
        "mean     -0.483507     0.033371     0.567185     0.006849    -0.892659   \n",
        "std       2.121281     1.007044     2.227876     0.997635     2.022022   \n",
        "min      -7.124105    -2.952358    -5.452254    -3.473913    -8.051722   \n",
        "25%      -1.879247    -0.642861    -1.059786    -0.691162    -2.220126   \n",
        "50%      -0.493575     0.037732     0.455474     0.038284    -0.855470   \n",
        "75%       1.005795     0.691800     2.122157     0.693535     0.388698   \n",
        "max       6.005818     3.420561     6.603499     3.492548     5.774120   \n",
        "\n",
        "                39  \n",
        "count  1000.000000  \n",
        "mean      0.609451  \n",
        "std       2.045439  \n",
        "min      -7.799086  \n",
        "25%      -0.565041  \n",
        "50%       0.779944  \n",
        "75%       1.992193  \n",
        "max       6.803984  \n",
        "\n",
        "[8 rows x 40 columns]"
       ]
      }
     ],
     "prompt_number": 295
    },
    {
     "cell_type": "markdown",
     "metadata": {},
     "source": [
      "###Train-Test-Split"
     ]
    },
    {
     "cell_type": "code",
     "collapsed": false,
     "input": [
      "X_train, X_test, y_train, y_test = train_test_split(X, y, test_size=0.3, random_state=0)\n",
      "\n",
      "print \"Train data shape: %r, Train target shape: %r\" % (X_train.shape, y_train.shape)\n",
      "print \"Test data shape: %r, Test target shape: %r\" % (X_test.shape, y_test.shape)"
     ],
     "language": "python",
     "metadata": {},
     "outputs": [
      {
       "output_type": "stream",
       "stream": "stdout",
       "text": [
        "Train data shape: (700, 40), Train target shape: (700,)\n",
        "Test data shape: (300, 40), Test target shape: (300,)\n"
       ]
      }
     ],
     "prompt_number": 296
    },
    {
     "cell_type": "markdown",
     "metadata": {},
     "source": [
      "###SVC"
     ]
    },
    {
     "cell_type": "code",
     "collapsed": false,
     "input": [
      "svc = SVC(kernel='rbf', C=1000000, gamma=0.277777777778)\n",
      "svc.fit(X_train, y_train)\n",
      "scores = cross_val_score(svc, X, y)\n",
      "\n",
      "print \"CV Score (mean): %0.2f%%\" % (100 * scores.mean())"
     ],
     "language": "python",
     "metadata": {},
     "outputs": [
      {
       "output_type": "stream",
       "stream": "stdout",
       "text": [
        "CV Score (mean): 51.00%\n"
       ]
      }
     ],
     "prompt_number": 297
    },
    {
     "cell_type": "markdown",
     "metadata": {},
     "source": [
      "###SVC + PCA"
     ]
    },
    {
     "cell_type": "code",
     "collapsed": false,
     "input": [
      "pca = PCA(n_components=12, whiten=True)\n",
      "pca.fit_transform(X)"
     ],
     "language": "python",
     "metadata": {},
     "outputs": [
      {
       "metadata": {},
       "output_type": "pyout",
       "prompt_number": 298,
       "text": [
        "array([[ 0.9728, -0.7771, -0.0537, ..., -1.4984,  1.8215, -0.1624],\n",
        "       [-0.2154,  0.118 ,  1.3507, ...,  0.2392,  0.1531,  0.963 ],\n",
        "       [ 0.9159,  1.8062, -1.1555, ..., -0.0108,  0.5554, -1.5712],\n",
        "       ..., \n",
        "       [ 1.7598,  0.2382,  2.8441, ..., -0.4897, -1.4051,  0.7518],\n",
        "       [-1.8569, -0.4578, -0.9231, ...,  1.2322, -1.5114, -2.024 ],\n",
        "       [ 0.0704, -1.1277, -1.6382, ..., -0.8911,  0.0411, -1.5429]])"
       ]
      }
     ],
     "prompt_number": 298
    },
    {
     "cell_type": "code",
     "collapsed": false,
     "input": [
      "svc_pca = TransformWrapper(svc, pca, fit_transform=True)\n",
      "svc_pca.fit(X_train, y_train)\n",
      "scores = cross_val_score(svc_pca, X, y)\n",
      "\n",
      "print \"CV Score (mean): %0.2f%%\" % (100 * scores.mean())"
     ],
     "language": "python",
     "metadata": {},
     "outputs": [
      {
       "output_type": "stream",
       "stream": "stdout",
       "text": [
        "CV Score (mean): 94.40%\n"
       ]
      }
     ],
     "prompt_number": 299
    },
    {
     "cell_type": "markdown",
     "metadata": {},
     "source": [
      "###SVC + PCA + LDA"
     ]
    },
    {
     "cell_type": "code",
     "collapsed": false,
     "input": [
      "lda = LDA(n_components=2)\n",
      "lda = TransformWrapper(lda, pca, fit_transform=True)\n",
      "lda.fit(X, y)"
     ],
     "language": "python",
     "metadata": {},
     "outputs": [],
     "prompt_number": 300
    },
    {
     "cell_type": "code",
     "collapsed": false,
     "input": [
      "fm = FeatureMixer([pca, lda], ignorefit=True)\n",
      "fm.transform(X)"
     ],
     "language": "python",
     "metadata": {},
     "outputs": [
      {
       "metadata": {},
       "output_type": "pyout",
       "prompt_number": 301,
       "text": [
        "array([[ 0.9728, -0.7771, -0.0537, ...,  1.8215, -0.1624,  2.1864],\n",
        "       [-0.2154,  0.118 ,  1.3507, ...,  0.1531,  0.963 , -0.7396],\n",
        "       [ 0.9159,  1.8062, -1.1555, ...,  0.5554, -1.5712, -1.9465],\n",
        "       ..., \n",
        "       [ 1.7598,  0.2382,  2.8441, ..., -1.4051,  0.7518,  1.9732],\n",
        "       [-1.8569, -0.4578, -0.9231, ..., -1.5114, -2.024 , -1.9277],\n",
        "       [ 0.0704, -1.1277, -1.6382, ...,  0.0411, -1.5429,  0.4975]])"
       ]
      }
     ],
     "prompt_number": 301
    },
    {
     "cell_type": "code",
     "collapsed": false,
     "input": [
      "svc = SVC(kernel='rbf', C=1000000, gamma=0.277777777778)"
     ],
     "language": "python",
     "metadata": {},
     "outputs": [],
     "prompt_number": 302
    },
    {
     "cell_type": "code",
     "collapsed": false,
     "input": [
      "svc_pca_lda = TransformWrapper(svc, fm, fit_transform=True)\n",
      "svc_pca_lda.fit(X_train, y_train)\n",
      "scores = cross_val_score(svc_pca_lda, X, y)\n",
      "\n",
      "print \"CV Score (mean): %0.2f%%\" % (100 * scores.mean())"
     ],
     "language": "python",
     "metadata": {},
     "outputs": [
      {
       "ename": "AttributeError",
       "evalue": "'PCA' object has no attribute 'mean_'",
       "output_type": "pyerr",
       "traceback": [
        "\u001b[0;31m---------------------------------------------------------------------------\u001b[0m\n\u001b[0;31mAttributeError\u001b[0m                            Traceback (most recent call last)",
        "\u001b[0;32m<ipython-input-304-4cceefa382f5>\u001b[0m in \u001b[0;36m<module>\u001b[0;34m()\u001b[0m\n\u001b[1;32m      1\u001b[0m \u001b[0msvc_pca_lda\u001b[0m \u001b[0;34m=\u001b[0m \u001b[0mTransformWrapper\u001b[0m\u001b[0;34m(\u001b[0m\u001b[0msvc\u001b[0m\u001b[0;34m,\u001b[0m \u001b[0mfm\u001b[0m\u001b[0;34m,\u001b[0m \u001b[0mfit_transform\u001b[0m\u001b[0;34m=\u001b[0m\u001b[0mTrue\u001b[0m\u001b[0;34m)\u001b[0m\u001b[0;34m\u001b[0m\u001b[0m\n\u001b[1;32m      2\u001b[0m \u001b[0msvc_pca_lda\u001b[0m\u001b[0;34m.\u001b[0m\u001b[0mfit\u001b[0m\u001b[0;34m(\u001b[0m\u001b[0mX_train\u001b[0m\u001b[0;34m,\u001b[0m \u001b[0my_train\u001b[0m\u001b[0;34m)\u001b[0m\u001b[0;34m\u001b[0m\u001b[0m\n\u001b[0;32m----> 3\u001b[0;31m \u001b[0mscores\u001b[0m \u001b[0;34m=\u001b[0m \u001b[0mcross_val_score\u001b[0m\u001b[0;34m(\u001b[0m\u001b[0msvc_pca_lda\u001b[0m\u001b[0;34m,\u001b[0m \u001b[0mX\u001b[0m\u001b[0;34m,\u001b[0m \u001b[0my\u001b[0m\u001b[0;34m)\u001b[0m\u001b[0;34m\u001b[0m\u001b[0m\n\u001b[0m\u001b[1;32m      4\u001b[0m \u001b[0;34m\u001b[0m\u001b[0m\n\u001b[1;32m      5\u001b[0m \u001b[0;32mprint\u001b[0m \u001b[0;34m\"CV Score (mean): %0.2f%%\"\u001b[0m \u001b[0;34m%\u001b[0m \u001b[0;34m(\u001b[0m\u001b[0;36m100\u001b[0m \u001b[0;34m*\u001b[0m \u001b[0mscores\u001b[0m\u001b[0;34m.\u001b[0m\u001b[0mmean\u001b[0m\u001b[0;34m(\u001b[0m\u001b[0;34m)\u001b[0m\u001b[0;34m)\u001b[0m\u001b[0;34m\u001b[0m\u001b[0m\n",
        "\u001b[0;32m//anaconda/lib/python2.7/site-packages/sklearn/cross_validation.pyc\u001b[0m in \u001b[0;36mcross_val_score\u001b[0;34m(estimator, X, y, scoring, cv, n_jobs, verbose, fit_params, score_func, pre_dispatch)\u001b[0m\n\u001b[1;32m   1149\u001b[0m                                               \u001b[0mtrain\u001b[0m\u001b[0;34m,\u001b[0m \u001b[0mtest\u001b[0m\u001b[0;34m,\u001b[0m \u001b[0mverbose\u001b[0m\u001b[0;34m,\u001b[0m \u001b[0mNone\u001b[0m\u001b[0;34m,\u001b[0m\u001b[0;34m\u001b[0m\u001b[0m\n\u001b[1;32m   1150\u001b[0m                                               fit_params)\n\u001b[0;32m-> 1151\u001b[0;31m                       for train, test in cv)\n\u001b[0m\u001b[1;32m   1152\u001b[0m     \u001b[0;32mreturn\u001b[0m \u001b[0mnp\u001b[0m\u001b[0;34m.\u001b[0m\u001b[0marray\u001b[0m\u001b[0;34m(\u001b[0m\u001b[0mscores\u001b[0m\u001b[0;34m)\u001b[0m\u001b[0;34m[\u001b[0m\u001b[0;34m:\u001b[0m\u001b[0;34m,\u001b[0m \u001b[0;36m0\u001b[0m\u001b[0;34m]\u001b[0m\u001b[0;34m\u001b[0m\u001b[0m\n\u001b[1;32m   1153\u001b[0m \u001b[0;34m\u001b[0m\u001b[0m\n",
        "\u001b[0;32m//anaconda/lib/python2.7/site-packages/sklearn/externals/joblib/parallel.pyc\u001b[0m in \u001b[0;36m__call__\u001b[0;34m(self, iterable)\u001b[0m\n\u001b[1;32m    651\u001b[0m             \u001b[0mself\u001b[0m\u001b[0;34m.\u001b[0m\u001b[0m_iterating\u001b[0m \u001b[0;34m=\u001b[0m \u001b[0mTrue\u001b[0m\u001b[0;34m\u001b[0m\u001b[0m\n\u001b[1;32m    652\u001b[0m             \u001b[0;32mfor\u001b[0m \u001b[0mfunction\u001b[0m\u001b[0;34m,\u001b[0m \u001b[0margs\u001b[0m\u001b[0;34m,\u001b[0m \u001b[0mkwargs\u001b[0m \u001b[0;32min\u001b[0m \u001b[0miterable\u001b[0m\u001b[0;34m:\u001b[0m\u001b[0;34m\u001b[0m\u001b[0m\n\u001b[0;32m--> 653\u001b[0;31m                 \u001b[0mself\u001b[0m\u001b[0;34m.\u001b[0m\u001b[0mdispatch\u001b[0m\u001b[0;34m(\u001b[0m\u001b[0mfunction\u001b[0m\u001b[0;34m,\u001b[0m \u001b[0margs\u001b[0m\u001b[0;34m,\u001b[0m \u001b[0mkwargs\u001b[0m\u001b[0;34m)\u001b[0m\u001b[0;34m\u001b[0m\u001b[0m\n\u001b[0m\u001b[1;32m    654\u001b[0m \u001b[0;34m\u001b[0m\u001b[0m\n\u001b[1;32m    655\u001b[0m             \u001b[0;32mif\u001b[0m \u001b[0mpre_dispatch\u001b[0m \u001b[0;34m==\u001b[0m \u001b[0;34m\"all\"\u001b[0m \u001b[0;32mor\u001b[0m \u001b[0mn_jobs\u001b[0m \u001b[0;34m==\u001b[0m \u001b[0;36m1\u001b[0m\u001b[0;34m:\u001b[0m\u001b[0;34m\u001b[0m\u001b[0m\n",
        "\u001b[0;32m//anaconda/lib/python2.7/site-packages/sklearn/externals/joblib/parallel.pyc\u001b[0m in \u001b[0;36mdispatch\u001b[0;34m(self, func, args, kwargs)\u001b[0m\n\u001b[1;32m    398\u001b[0m         \"\"\"\n\u001b[1;32m    399\u001b[0m         \u001b[0;32mif\u001b[0m \u001b[0mself\u001b[0m\u001b[0;34m.\u001b[0m\u001b[0m_pool\u001b[0m \u001b[0;32mis\u001b[0m \u001b[0mNone\u001b[0m\u001b[0;34m:\u001b[0m\u001b[0;34m\u001b[0m\u001b[0m\n\u001b[0;32m--> 400\u001b[0;31m             \u001b[0mjob\u001b[0m \u001b[0;34m=\u001b[0m \u001b[0mImmediateApply\u001b[0m\u001b[0;34m(\u001b[0m\u001b[0mfunc\u001b[0m\u001b[0;34m,\u001b[0m \u001b[0margs\u001b[0m\u001b[0;34m,\u001b[0m \u001b[0mkwargs\u001b[0m\u001b[0;34m)\u001b[0m\u001b[0;34m\u001b[0m\u001b[0m\n\u001b[0m\u001b[1;32m    401\u001b[0m             \u001b[0mindex\u001b[0m \u001b[0;34m=\u001b[0m \u001b[0mlen\u001b[0m\u001b[0;34m(\u001b[0m\u001b[0mself\u001b[0m\u001b[0;34m.\u001b[0m\u001b[0m_jobs\u001b[0m\u001b[0;34m)\u001b[0m\u001b[0;34m\u001b[0m\u001b[0m\n\u001b[1;32m    402\u001b[0m             \u001b[0;32mif\u001b[0m \u001b[0;32mnot\u001b[0m \u001b[0m_verbosity_filter\u001b[0m\u001b[0;34m(\u001b[0m\u001b[0mindex\u001b[0m\u001b[0;34m,\u001b[0m \u001b[0mself\u001b[0m\u001b[0;34m.\u001b[0m\u001b[0mverbose\u001b[0m\u001b[0;34m)\u001b[0m\u001b[0;34m:\u001b[0m\u001b[0;34m\u001b[0m\u001b[0m\n",
        "\u001b[0;32m//anaconda/lib/python2.7/site-packages/sklearn/externals/joblib/parallel.pyc\u001b[0m in \u001b[0;36m__init__\u001b[0;34m(self, func, args, kwargs)\u001b[0m\n\u001b[1;32m    136\u001b[0m         \u001b[0;31m# Don't delay the application, to avoid keeping the input\u001b[0m\u001b[0;34m\u001b[0m\u001b[0;34m\u001b[0m\u001b[0m\n\u001b[1;32m    137\u001b[0m         \u001b[0;31m# arguments in memory\u001b[0m\u001b[0;34m\u001b[0m\u001b[0;34m\u001b[0m\u001b[0m\n\u001b[0;32m--> 138\u001b[0;31m         \u001b[0mself\u001b[0m\u001b[0;34m.\u001b[0m\u001b[0mresults\u001b[0m \u001b[0;34m=\u001b[0m \u001b[0mfunc\u001b[0m\u001b[0;34m(\u001b[0m\u001b[0;34m*\u001b[0m\u001b[0margs\u001b[0m\u001b[0;34m,\u001b[0m \u001b[0;34m**\u001b[0m\u001b[0mkwargs\u001b[0m\u001b[0;34m)\u001b[0m\u001b[0;34m\u001b[0m\u001b[0m\n\u001b[0m\u001b[1;32m    139\u001b[0m \u001b[0;34m\u001b[0m\u001b[0m\n\u001b[1;32m    140\u001b[0m     \u001b[0;32mdef\u001b[0m \u001b[0mget\u001b[0m\u001b[0;34m(\u001b[0m\u001b[0mself\u001b[0m\u001b[0;34m)\u001b[0m\u001b[0;34m:\u001b[0m\u001b[0;34m\u001b[0m\u001b[0m\n",
        "\u001b[0;32m//anaconda/lib/python2.7/site-packages/sklearn/cross_validation.pyc\u001b[0m in \u001b[0;36m_fit_and_score\u001b[0;34m(estimator, X, y, scorer, train, test, verbose, parameters, fit_params, return_train_score, return_parameters)\u001b[0m\n\u001b[1;32m   1237\u001b[0m         \u001b[0mestimator\u001b[0m\u001b[0;34m.\u001b[0m\u001b[0mfit\u001b[0m\u001b[0;34m(\u001b[0m\u001b[0mX_train\u001b[0m\u001b[0;34m,\u001b[0m \u001b[0;34m**\u001b[0m\u001b[0mfit_params\u001b[0m\u001b[0;34m)\u001b[0m\u001b[0;34m\u001b[0m\u001b[0m\n\u001b[1;32m   1238\u001b[0m     \u001b[0;32melse\u001b[0m\u001b[0;34m:\u001b[0m\u001b[0;34m\u001b[0m\u001b[0m\n\u001b[0;32m-> 1239\u001b[0;31m         \u001b[0mestimator\u001b[0m\u001b[0;34m.\u001b[0m\u001b[0mfit\u001b[0m\u001b[0;34m(\u001b[0m\u001b[0mX_train\u001b[0m\u001b[0;34m,\u001b[0m \u001b[0my_train\u001b[0m\u001b[0;34m,\u001b[0m \u001b[0;34m**\u001b[0m\u001b[0mfit_params\u001b[0m\u001b[0;34m)\u001b[0m\u001b[0;34m\u001b[0m\u001b[0m\n\u001b[0m\u001b[1;32m   1240\u001b[0m     \u001b[0mtest_score\u001b[0m \u001b[0;34m=\u001b[0m \u001b[0m_score\u001b[0m\u001b[0;34m(\u001b[0m\u001b[0mestimator\u001b[0m\u001b[0;34m,\u001b[0m \u001b[0mX_test\u001b[0m\u001b[0;34m,\u001b[0m \u001b[0my_test\u001b[0m\u001b[0;34m,\u001b[0m \u001b[0mscorer\u001b[0m\u001b[0;34m)\u001b[0m\u001b[0;34m\u001b[0m\u001b[0m\n\u001b[1;32m   1241\u001b[0m     \u001b[0;32mif\u001b[0m \u001b[0mreturn_train_score\u001b[0m\u001b[0;34m:\u001b[0m\u001b[0;34m\u001b[0m\u001b[0m\n",
        "\u001b[0;32m<ipython-input-217-10f535580acf>\u001b[0m in \u001b[0;36mfit\u001b[0;34m(self, X, y)\u001b[0m\n\u001b[1;32m      9\u001b[0m         \u001b[0;32mif\u001b[0m \u001b[0mself\u001b[0m\u001b[0;34m.\u001b[0m\u001b[0mfit_transform\u001b[0m\u001b[0;34m:\u001b[0m\u001b[0;34m\u001b[0m\u001b[0m\n\u001b[1;32m     10\u001b[0m             \u001b[0mself\u001b[0m\u001b[0;34m.\u001b[0m\u001b[0mtransformation\u001b[0m\u001b[0;34m.\u001b[0m\u001b[0mfit\u001b[0m\u001b[0;34m(\u001b[0m\u001b[0mX\u001b[0m\u001b[0;34m)\u001b[0m\u001b[0;34m\u001b[0m\u001b[0m\n\u001b[0;32m---> 11\u001b[0;31m         \u001b[0m_X\u001b[0m \u001b[0;34m=\u001b[0m \u001b[0mself\u001b[0m\u001b[0;34m.\u001b[0m\u001b[0m_pretransform\u001b[0m\u001b[0;34m(\u001b[0m\u001b[0mX\u001b[0m\u001b[0;34m)\u001b[0m\u001b[0;34m\u001b[0m\u001b[0m\n\u001b[0m\u001b[1;32m     12\u001b[0m         \u001b[0;32mif\u001b[0m \u001b[0my\u001b[0m \u001b[0;32mis\u001b[0m \u001b[0mNone\u001b[0m\u001b[0;34m:\u001b[0m\u001b[0;34m\u001b[0m\u001b[0m\n\u001b[1;32m     13\u001b[0m             \u001b[0mself\u001b[0m\u001b[0;34m.\u001b[0m\u001b[0mclf\u001b[0m\u001b[0;34m.\u001b[0m\u001b[0mfit\u001b[0m\u001b[0;34m(\u001b[0m\u001b[0m_X\u001b[0m\u001b[0;34m)\u001b[0m\u001b[0;34m\u001b[0m\u001b[0m\n",
        "\u001b[0;32m<ipython-input-217-10f535580acf>\u001b[0m in \u001b[0;36m_pretransform\u001b[0;34m(self, X)\u001b[0m\n\u001b[1;32m     32\u001b[0m \u001b[0;34m\u001b[0m\u001b[0m\n\u001b[1;32m     33\u001b[0m     \u001b[0;32mdef\u001b[0m \u001b[0m_pretransform\u001b[0m\u001b[0;34m(\u001b[0m\u001b[0mself\u001b[0m\u001b[0;34m,\u001b[0m \u001b[0mX\u001b[0m\u001b[0;34m)\u001b[0m\u001b[0;34m:\u001b[0m\u001b[0;34m\u001b[0m\u001b[0m\n\u001b[0;32m---> 34\u001b[0;31m         \u001b[0;32mreturn\u001b[0m \u001b[0mself\u001b[0m\u001b[0;34m.\u001b[0m\u001b[0mtransformation\u001b[0m\u001b[0;34m.\u001b[0m\u001b[0mtransform\u001b[0m\u001b[0;34m(\u001b[0m\u001b[0mX\u001b[0m\u001b[0;34m)\u001b[0m\u001b[0;34m\u001b[0m\u001b[0m\n\u001b[0m\u001b[1;32m     35\u001b[0m \u001b[0;34m\u001b[0m\u001b[0m\n\u001b[1;32m     36\u001b[0m \u001b[0;32mclass\u001b[0m \u001b[0mFeatureMixer\u001b[0m\u001b[0;34m(\u001b[0m\u001b[0mBaseEstimator\u001b[0m\u001b[0;34m)\u001b[0m\u001b[0;34m:\u001b[0m\u001b[0;34m\u001b[0m\u001b[0m\n",
        "\u001b[0;32m<ipython-input-217-10f535580acf>\u001b[0m in \u001b[0;36mtransform\u001b[0;34m(self, X)\u001b[0m\n\u001b[1;32m     53\u001b[0m         \u001b[0mans\u001b[0m \u001b[0;34m=\u001b[0m \u001b[0mNone\u001b[0m\u001b[0;34m\u001b[0m\u001b[0m\n\u001b[1;32m     54\u001b[0m         \u001b[0;32mfor\u001b[0m \u001b[0mclf\u001b[0m \u001b[0;32min\u001b[0m \u001b[0mself\u001b[0m\u001b[0;34m.\u001b[0m\u001b[0mclfs\u001b[0m\u001b[0;34m:\u001b[0m\u001b[0;34m\u001b[0m\u001b[0m\n\u001b[0;32m---> 55\u001b[0;31m             \u001b[0mnew\u001b[0m \u001b[0;34m=\u001b[0m \u001b[0mclf\u001b[0m\u001b[0;34m.\u001b[0m\u001b[0mtransform\u001b[0m\u001b[0;34m(\u001b[0m\u001b[0mX\u001b[0m\u001b[0;34m)\u001b[0m\u001b[0;34m\u001b[0m\u001b[0m\n\u001b[0m\u001b[1;32m     56\u001b[0m             \u001b[0;32mif\u001b[0m \u001b[0mans\u001b[0m \u001b[0;32mis\u001b[0m \u001b[0mNone\u001b[0m\u001b[0;34m:\u001b[0m\u001b[0;34m\u001b[0m\u001b[0m\n\u001b[1;32m     57\u001b[0m                 \u001b[0mans\u001b[0m \u001b[0;34m=\u001b[0m \u001b[0mnew\u001b[0m\u001b[0;34m\u001b[0m\u001b[0m\n",
        "\u001b[0;32m//anaconda/lib/python2.7/site-packages/sklearn/decomposition/pca.pyc\u001b[0m in \u001b[0;36mtransform\u001b[0;34m(self, X)\u001b[0m\n\u001b[1;32m    392\u001b[0m         \"\"\"\n\u001b[1;32m    393\u001b[0m         \u001b[0mX\u001b[0m \u001b[0;34m=\u001b[0m \u001b[0marray2d\u001b[0m\u001b[0;34m(\u001b[0m\u001b[0mX\u001b[0m\u001b[0;34m)\u001b[0m\u001b[0;34m\u001b[0m\u001b[0m\n\u001b[0;32m--> 394\u001b[0;31m         \u001b[0;32mif\u001b[0m \u001b[0mself\u001b[0m\u001b[0;34m.\u001b[0m\u001b[0mmean_\u001b[0m \u001b[0;32mis\u001b[0m \u001b[0;32mnot\u001b[0m \u001b[0mNone\u001b[0m\u001b[0;34m:\u001b[0m\u001b[0;34m\u001b[0m\u001b[0m\n\u001b[0m\u001b[1;32m    395\u001b[0m             \u001b[0mX\u001b[0m \u001b[0;34m=\u001b[0m \u001b[0mX\u001b[0m \u001b[0;34m-\u001b[0m \u001b[0mself\u001b[0m\u001b[0;34m.\u001b[0m\u001b[0mmean_\u001b[0m\u001b[0;34m\u001b[0m\u001b[0m\n\u001b[1;32m    396\u001b[0m         \u001b[0mX_transformed\u001b[0m \u001b[0;34m=\u001b[0m \u001b[0mfast_dot\u001b[0m\u001b[0;34m(\u001b[0m\u001b[0mX\u001b[0m\u001b[0;34m,\u001b[0m \u001b[0mself\u001b[0m\u001b[0;34m.\u001b[0m\u001b[0mcomponents_\u001b[0m\u001b[0;34m.\u001b[0m\u001b[0mT\u001b[0m\u001b[0;34m)\u001b[0m\u001b[0;34m\u001b[0m\u001b[0m\n",
        "\u001b[0;31mAttributeError\u001b[0m: 'PCA' object has no attribute 'mean_'"
       ]
      }
     ],
     "prompt_number": 304
    },
    {
     "cell_type": "code",
     "collapsed": false,
     "input": [
      "accuracy_score(y_test, svc_pca_lda.predict(X_test))"
     ],
     "language": "python",
     "metadata": {},
     "outputs": [
      {
       "metadata": {},
       "output_type": "pyout",
       "prompt_number": 294,
       "text": [
        "0.92000000000000004"
       ]
      }
     ],
     "prompt_number": 294
    },
    {
     "cell_type": "code",
     "collapsed": false,
     "input": [],
     "language": "python",
     "metadata": {},
     "outputs": []
    },
    {
     "cell_type": "code",
     "collapsed": false,
     "input": [
      "pca = PCA(whiten=True)\n",
      "pca.fit(X_combined)\n",
      "pd.DataFrame(pca.explained_variance_ratio_).plot(kind = 'bar')\n",
      "n_components = np.where(np.cumsum(pca.explained_variance_ratio_) >= 0.85)[0][0]\n",
      "print n_components\n",
      "\n",
      "pca = PCA(n_components=n_components, whiten=True)\n",
      "pca.fit(X_combined)\n",
      "\n",
      "X_train_pca = pca.transform(X_train)\n",
      "X_test_pca = pca.transform(X_test)"
     ],
     "language": "python",
     "metadata": {},
     "outputs": [
      {
       "output_type": "stream",
       "stream": "stdout",
       "text": [
        "15\n"
       ]
      },
      {
       "metadata": {},
       "output_type": "display_data",
       "png": "[encoded data removed]",
       "text": [
        "<matplotlib.figure.Figure at 0x10d6e8350>"
       ]
      }
     ],
     "prompt_number": 112
    },
    {
     "cell_type": "code",
     "collapsed": false,
     "input": [],
     "language": "python",
     "metadata": {},
     "outputs": []
    },
    {
     "cell_type": "code",
     "collapsed": false,
     "input": [],
     "language": "python",
     "metadata": {},
     "outputs": []
    },
    {
     "cell_type": "code",
     "collapsed": false,
     "input": [],
     "language": "python",
     "metadata": {},
     "outputs": []
    },
    {
     "cell_type": "code",
     "collapsed": false,
     "input": [],
     "language": "python",
     "metadata": {},
     "outputs": []
    },
    {
     "cell_type": "code",
     "collapsed": false,
     "input": [],
     "language": "python",
     "metadata": {},
     "outputs": []
    },
    {
     "cell_type": "code",
     "collapsed": false,
     "input": [],
     "language": "python",
     "metadata": {},
     "outputs": []
    },
    {
     "cell_type": "code",
     "collapsed": false,
     "input": [],
     "language": "python",
     "metadata": {},
     "outputs": []
    },
    {
     "cell_type": "markdown",
     "metadata": {},
     "source": [
      "###Get best features by forest model"
     ]
    },
    {
     "cell_type": "code",
     "collapsed": false,
     "input": [
      "trees = ExtraTreesClassifier(n_estimators=100)\n",
      "trees.fit(X_s, y)\n",
      "pd.DataFrame(trees.feature_importances_).plot(kind='barh')\n",
      "selected_features = np.where(trees.feature_importances_ > 0.015)[0]\n",
      "\n",
      "X_selected = X[:, selected_features]\n",
      "X_pred_selected = X_pred[:, selected_features]\n",
      "print X_selected.shape, X_pred_selected.shape"
     ],
     "language": "python",
     "metadata": {},
     "outputs": [
      {
       "output_type": "stream",
       "stream": "stdout",
       "text": [
        "(1000, 22) (9000, 22)\n"
       ]
      },
      {
       "metadata": {},
       "output_type": "display_data",
       "png": "[encoded data removed]",
       "text": [
        "<matplotlib.figure.Figure at 0x10ac37c50>"
       ]
      }
     ],
     "prompt_number": 78
    },
    {
     "cell_type": "markdown",
     "metadata": {},
     "source": [
      "###Support Vector Classifier"
     ]
    },
    {
     "cell_type": "code",
     "collapsed": false,
     "input": [
      "%%time\n",
      "\n",
      "svc = SVC(probability=True)\n",
      "\n",
      "params = {'gamma': np.logspace(-4, 0, 5)\n",
      "          }\n",
      "\n",
      "gs = GridSearchCV(svc, params, cv=3, \n",
      "                  scoring='accuracy', \n",
      "                  n_jobs=4,\n",
      "                  verbose=1)\n",
      "\n",
      "_ = gs.fit(X_selected, y)\n",
      "\n",
      "print \"GS Best Score: %0.2f\" % gs.best_score_\n",
      "print \"GS Best Params:\", gs.best_params_"
     ],
     "language": "python",
     "metadata": {},
     "outputs": [
      {
       "output_type": "stream",
       "stream": "stdout",
       "text": [
        "Fitting 3 folds for each of 5 candidates, totalling 15 fits\n"
       ]
      },
      {
       "output_type": "stream",
       "stream": "stderr",
       "text": [
        "[Parallel(n_jobs=4)]: Done   1 jobs       | elapsed:    0.2s\n",
        "[Parallel(n_jobs=4)]: Done   9 out of  15 | elapsed:    0.4s remaining:    0.3s\n",
        "[Parallel(n_jobs=4)]: Done  15 out of  15 | elapsed:    0.8s finished\n"
       ]
      },
      {
       "output_type": "stream",
       "stream": "stdout",
       "text": [
        "GS Best Score: 0.91\n",
        "GS Best Params: {'gamma': 0.01}\n",
        "CPU times: user 220 ms, sys: 38.6 ms, total: 259 ms\n",
        "Wall time: 1.02 s\n"
       ]
      }
     ],
     "prompt_number": 105
    },
    {
     "cell_type": "code",
     "collapsed": false,
     "input": [
      "svc.set_params(**gs.best_params_)\n",
      "svc.fit(pca.transform(X), y)\n",
      "\n",
      "scores = cross_val_score(svc, pca.transform(X), y)\n",
      "\n",
      "print \"CV Score (min): %0.2f%%\" % (100 * scores.min())\n",
      "print \"CV Score (mean): %0.2f%%\" % (100 * scores.mean())\n",
      "print \"CV Score (max): %0.2f%%\" % (100 * scores.max())"
     ],
     "language": "python",
     "metadata": {},
     "outputs": [
      {
       "output_type": "stream",
       "stream": "stdout",
       "text": [
        "CV Score (min): 81.68%\n",
        "CV Score (mean): 83.70%\n",
        "CV Score (max): 84.73%\n"
       ]
      }
     ],
     "prompt_number": 108
    },
    {
     "cell_type": "markdown",
     "metadata": {},
     "source": [
      "###Extra Trees Classifier"
     ]
    },
    {
     "cell_type": "code",
     "collapsed": false,
     "input": [
      "et = ExtraTreesClassifier(n_estimators=300)\n",
      "et.get_params()"
     ],
     "language": "python",
     "metadata": {},
     "outputs": [
      {
       "metadata": {},
       "output_type": "pyout",
       "prompt_number": 84,
       "text": [
        "{'bootstrap': False,\n",
        " 'compute_importances': None,\n",
        " 'criterion': 'gini',\n",
        " 'max_depth': None,\n",
        " 'max_features': 'auto',\n",
        " 'max_leaf_nodes': None,\n",
        " 'min_density': None,\n",
        " 'min_samples_leaf': 1,\n",
        " 'min_samples_split': 2,\n",
        " 'n_estimators': 300,\n",
        " 'n_jobs': 1,\n",
        " 'oob_score': False,\n",
        " 'random_state': None,\n",
        " 'verbose': 0}"
       ]
      }
     ],
     "prompt_number": 84
    },
    {
     "cell_type": "code",
     "collapsed": false,
     "input": [
      "%%time\n",
      "\n",
      "et = ExtraTreesClassifier(n_estimators=50)\n",
      "\n",
      "params = {'max_features': [1, 0.3, 0.1]}\n",
      "\n",
      "gs = GridSearchCV(et, params, cv=10, \n",
      "                  scoring='accuracy', \n",
      "                  n_jobs=4,\n",
      "                  verbose=1)\n",
      "\n",
      "_ = gs.fit(X, y)\n",
      "\n",
      "print \"GS Best Score: %0.2f\" % gs.best_score_\n",
      "print \"GS Best Params:\", gs.best_params_"
     ],
     "language": "python",
     "metadata": {},
     "outputs": [
      {
       "output_type": "stream",
       "stream": "stdout",
       "text": [
        "Fitting 10 folds for each of 3 candidates, totalling 30 fits\n"
       ]
      },
      {
       "output_type": "stream",
       "stream": "stderr",
       "text": [
        "[Parallel(n_jobs=4)]: Done   1 jobs       | elapsed:    0.1s\n",
        "[Parallel(n_jobs=4)]: Done  30 out of  30 | elapsed:    1.1s finished\n"
       ]
      },
      {
       "output_type": "stream",
       "stream": "stdout",
       "text": [
        "GS Best Score: 0.89\n",
        "GS Best Params: {'max_features': 0.3}\n",
        "CPU times: user 248 ms, sys: 48.6 ms, total: 297 ms\n",
        "Wall time: 1.31 s\n"
       ]
      }
     ],
     "prompt_number": 101
    },
    {
     "cell_type": "code",
     "collapsed": false,
     "input": [
      "et.set_params(**gs.best_params_)\n",
      "et.fit(X_selected, y)\n",
      "\n",
      "scores = cross_val_score(et, X, y)\n",
      "\n",
      "print \"CV Score (min): %0.2f%%\" % (100 * scores.min())\n",
      "print \"CV Score (mean): %0.2f%%\" % (100 * scores.mean())\n",
      "print \"CV Score (max): %0.2f%%\" % (100 * scores.max())"
     ],
     "language": "python",
     "metadata": {},
     "outputs": [
      {
       "output_type": "stream",
       "stream": "stdout",
       "text": [
        "CV Score (min): 86.19%\n",
        "CV Score (mean): 87.40%\n",
        "CV Score (max): 89.22%\n"
       ]
      }
     ],
     "prompt_number": 104
    },
    {
     "cell_type": "markdown",
     "metadata": {},
     "source": [
      "###Accuracy Score"
     ]
    },
    {
     "cell_type": "markdown",
     "metadata": {},
     "source": [
      "###Generate Predictions"
     ]
    },
    {
     "cell_type": "code",
     "collapsed": false,
     "input": [
      "pred = pd.DataFrame(index=np.arange(1, len(X_pred) + 1))\n",
      "pred['Solution'] = clf.predict(pca.transform(X_pred))\n",
      "# pred.to_csv('gmm_pca.csv', index_label='ID')"
     ],
     "language": "python",
     "metadata": {},
     "outputs": [],
     "prompt_number": 32
    },
    {
     "cell_type": "code",
     "collapsed": false,
     "input": [
      "from IPython.display import display, HTML\n",
      "display(HTML(open('../style/custom.css').read()))"
     ],
     "language": "python",
     "metadata": {},
     "outputs": []
    }
   ],
   "metadata": {}
  }
 ]
}