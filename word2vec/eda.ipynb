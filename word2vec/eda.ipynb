{
 "metadata": {
  "name": "",
  "signature": "sha256:ea8b1991e3224798b6c6719bc708b5585fb0e3412fbaeeefa9e35f623ba132e2"
 },
 "nbformat": 3,
 "nbformat_minor": 0,
 "worksheets": [
  {
   "cells": [
    {
     "cell_type": "code",
     "collapsed": false,
     "input": [
      "import re\n",
      "import nltk\n",
      "from bs4 import BeautifulSoup\n",
      "from nltk.corpus import stopwords\n",
      "import os\n",
      "from sklearn.feature_extraction.text import CountVectorizer\n",
      "from sklearn.ensemble import RandomForestClassifier\n",
      "from KaggleWord2VecUtility import KaggleWord2VecUtility\n",
      "import pandas as pd\n",
      "import numpy as np"
     ],
     "language": "python",
     "metadata": {},
     "outputs": [],
     "prompt_number": 5
    },
    {
     "cell_type": "code",
     "collapsed": false,
     "input": [
      "class KaggleWord2VecUtility(object):\n",
      "    \"\"\"\n",
      "    Process raw HTML into format for training\n",
      "    \"\"\"\n",
      "    @staticmethod\n",
      "    def review_to_wordlist(review, remove_stopwords=False):\n",
      "        \"\"\"\n",
      "        Clean up the review and remove stopwords\n",
      "        \"\"\"\n",
      "        review_text = BeautifulSoup(review).get_text()\n",
      "        review_text = re.sub(\"[^a-zA-Z]\",\" \", review_text)\n",
      "        words = review_text.lower().split()\n",
      "        if remove_stopwords:\n",
      "            stops = set(stopwords.words(\"english\"))\n",
      "            words = [w for w in words if not w in stops]\n",
      "        return(words)\n",
      "\n",
      "    @staticmethod\n",
      "    def review_to_sentences(review, tokenizer, remove_stopwords=False):\n",
      "        \"\"\"\n",
      "        Split a review into parsed sentences\n",
      "        \"\"\"\n",
      "        raw_sentences = tokenizer.tokenize(review.decode('utf8').strip())\n",
      "        sentences = []\n",
      "        for raw_sentence in raw_sentences:\n",
      "            if len(raw_sentence) > 0:\n",
      "                sentences.append(KaggleWord2VecUtility.review_to_wordlist(raw_sentence,\n",
      "                                                                remove_stopwords))\n",
      "            return sentences"
     ],
     "language": "python",
     "metadata": {},
     "outputs": [],
     "prompt_number": 6
    },
    {
     "cell_type": "code",
     "collapsed": false,
     "input": [
      "train = pd.read_csv(os.path.join(os.path.dirname(__file__), 'data', \n",
      "                                 'labeledTrainData.tsv'), header=0, delimiter=\"\\t\", quoting=3)\n",
      "test = pd.read_csv(os.path.join(os.path.dirname(__file__), 'data',\n",
      "                                'testData.tsv'), header=0, delimiter=\"\\t\", quoting=3)"
     ],
     "language": "python",
     "metadata": {},
     "outputs": [
      {
       "ename": "NameError",
       "evalue": "name '__file__' is not defined",
       "output_type": "pyerr",
       "traceback": [
        "\u001b[0;31m---------------------------------------------------------------------------\u001b[0m\n\u001b[0;31mNameError\u001b[0m                                 Traceback (most recent call last)",
        "\u001b[0;32m<ipython-input-4-7da2a53eac3b>\u001b[0m in \u001b[0;36m<module>\u001b[0;34m()\u001b[0m\n\u001b[0;32m----> 1\u001b[0;31m train = pd.read_csv(os.path.join(os.path.dirname(__file__), 'data', \n\u001b[0m\u001b[1;32m      2\u001b[0m                                  'labeledTrainData.tsv'), header=0, delimiter=\"\\t\", quoting=3)\n\u001b[1;32m      3\u001b[0m test = pd.read_csv(os.path.join(os.path.dirname(__file__), 'data',\n\u001b[1;32m      4\u001b[0m                                 'testData.tsv'), header=0, delimiter=\"\\t\", quoting=3)\n",
        "\u001b[0;31mNameError\u001b[0m: name '__file__' is not defined"
       ]
      }
     ],
     "prompt_number": 4
    },
    {
     "cell_type": "code",
     "collapsed": false,
     "input": [
      " print 'The first review is:'\n",
      "    print train[\"review\"][0]\n",
      "\n",
      "    raw_input(\"Press Enter to continue\")\n",
      "\n",
      "    print \"Cleaning and parsing movie reviews...\\n\"\n",
      "    clean_train_reviews = []\n",
      "    for i in xrange(0, len(train['review'])):\n",
      "        clean_train_reviews.append(\" \".join(KaggleWord2VecUtility.review_to_wordlist(train['review'][i], True)))\n",
      "\n",
      "    print \"Creating bag of words...\\n\"\n",
      "\n",
      "    vectorizer = CountVectorizer(analyzer = 'word',\n",
      "                                tokenizer = None,\n",
      "                                preprocessor = None,\n",
      "                                stop_words = None,\n",
      "                                max_features = 5000)\n",
      "\n",
      "    train_data_features = vectorizer.fit_transform(clean_train_reviews)\n",
      "    train_data_features = train_data_features.toarray()\n",
      "\n",
      "    print \"Training Random Forest \\n\"\n",
      "\n",
      "    rf = RandomForestClassifier(n_estimators=100)\n",
      "    clf = rf.fit(train_data_features, train['sentiment'])\n",
      "\n",
      "    print \"Clean and parse test set \\n\"\n",
      "    clean_test_reviews = []\n",
      "    for i in xrange(0, len(test['review'])):\n",
      "        clean_test_reviews.append(\" \".join(KaggleWord2VecUtility.review_to_wordlist(test['review'][i], True)))\n",
      "\n",
      "    test_data_features = vectorizer.fit_transform(clean_test_reviews)\n",
      "    test_data_features = test_data_features.toarray()\n",
      "\n",
      "    print \"Predicting test labels \\n\"\n",
      "    result = clf.predict(test_data_features)\n",
      "\n",
      "    output = pd.DataFrame(data={'id':test['id'], 'sentiment':result})\n",
      "    output.to_csv(os.path.join(os.path.dirname(__file__), 'data', 'rf.csv'), index=False, quoting=3)\n",
      "    print \"Submission file created\""
     ],
     "language": "python",
     "metadata": {},
     "outputs": []
    },
    {
     "cell_type": "code",
     "collapsed": false,
     "input": [],
     "language": "python",
     "metadata": {},
     "outputs": []
    },
    {
     "cell_type": "code",
     "collapsed": false,
     "input": [],
     "language": "python",
     "metadata": {},
     "outputs": []
    },
    {
     "cell_type": "code",
     "collapsed": false,
     "input": [],
     "language": "python",
     "metadata": {},
     "outputs": []
    }
   ],
   "metadata": {}
  }
 ]
}